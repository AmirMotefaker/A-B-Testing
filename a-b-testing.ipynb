{
 "cells": [
  {
   "cell_type": "markdown",
   "id": "13c30559",
   "metadata": {
    "papermill": {
     "duration": 0.00789,
     "end_time": "2023-09-08T14:48:38.226191",
     "exception": false,
     "start_time": "2023-09-08T14:48:38.218301",
     "status": "completed"
    },
    "tags": []
   },
   "source": [
    "# Introduction\n",
    "\n",
    "- A/B Testing means analyzing two marketing strategies to choose the best marketing strategy that can convert more traffic into sales (or more traffic into your desired goal) effectively and efficiently. A/B testing is one of the valuable concepts that every Data Science professional should know."
   ]
  },
  {
   "cell_type": "markdown",
   "id": "f049fa91",
   "metadata": {
    "papermill": {
     "duration": 0.006642,
     "end_time": "2023-09-08T14:48:38.239998",
     "exception": false,
     "start_time": "2023-09-08T14:48:38.233356",
     "status": "completed"
    },
    "tags": []
   },
   "source": [
    "# A/B Testing\n",
    "\n",
    "- In A/B testing, we analyze the results of two marketing strategies to choose the best one for future marketing campaigns. For example, when I started an ad campaign on Instagram to promote my Instagram post for the very first time, my target audience was different from the target audience of my second ad campaign. After analyzing the results of both ad campaigns, I always preferred the audience of the second ad campaign as it gave better reach and followers than the first one.\n",
    "\n",
    "- That is what A/B testing means. Your goal can be to boost sales, followers, or traffic, but when we choose the best marketing strategy according to the results of our previous marketing campaigns, it is nothing but A/B testing.\n",
    "\n",
    "- For the task of A/B testing using Python, we need to have a dataset about two different marketing strategies for the same goal. "
   ]
  },
  {
   "cell_type": "markdown",
   "id": "109e3afb",
   "metadata": {
    "papermill": {
     "duration": 0.006892,
     "end_time": "2023-09-08T14:48:38.253817",
     "exception": false,
     "start_time": "2023-09-08T14:48:38.246925",
     "status": "completed"
    },
    "tags": []
   },
   "source": [
    "# Import Libraries"
   ]
  },
  {
   "cell_type": "code",
   "execution_count": 1,
   "id": "7dc678d1",
   "metadata": {
    "execution": {
     "iopub.execute_input": "2023-09-08T14:48:38.271336Z",
     "iopub.status.busy": "2023-09-08T14:48:38.270399Z",
     "iopub.status.idle": "2023-09-08T14:48:41.397805Z",
     "shell.execute_reply": "2023-09-08T14:48:41.396162Z"
    },
    "papermill": {
     "duration": 3.139536,
     "end_time": "2023-09-08T14:48:41.400638",
     "exception": false,
     "start_time": "2023-09-08T14:48:38.261102",
     "status": "completed"
    },
    "tags": []
   },
   "outputs": [],
   "source": [
    "import pandas as pd\n",
    "import datetime\n",
    "from datetime import date, timedelta\n",
    "import plotly.graph_objects as go\n",
    "import plotly.express as px\n",
    "import plotly.io as pio\n",
    "pio.templates.default = \"plotly_white\""
   ]
  },
  {
   "cell_type": "markdown",
   "id": "775f9fe0",
   "metadata": {
    "papermill": {
     "duration": 0.006736,
     "end_time": "2023-09-08T14:48:41.414816",
     "exception": false,
     "start_time": "2023-09-08T14:48:41.408080",
     "status": "completed"
    },
    "tags": []
   },
   "source": [
    "# Read Data"
   ]
  },
  {
   "cell_type": "code",
   "execution_count": 2,
   "id": "290a0554",
   "metadata": {
    "execution": {
     "iopub.execute_input": "2023-09-08T14:48:41.431565Z",
     "iopub.status.busy": "2023-09-08T14:48:41.430552Z",
     "iopub.status.idle": "2023-09-08T14:48:41.464093Z",
     "shell.execute_reply": "2023-09-08T14:48:41.462612Z"
    },
    "papermill": {
     "duration": 0.045364,
     "end_time": "2023-09-08T14:48:41.467079",
     "exception": false,
     "start_time": "2023-09-08T14:48:41.421715",
     "status": "completed"
    },
    "tags": []
   },
   "outputs": [],
   "source": [
    "control_data = pd.read_csv(\"/kaggle/input/ab-testing-dataset/control_group.csv\", sep = \";\")\n",
    "test_data = pd.read_csv(\"/kaggle/input/ab-testing-dataset/test_group.csv\", sep = \";\")"
   ]
  },
  {
   "cell_type": "code",
   "execution_count": 3,
   "id": "5096d613",
   "metadata": {
    "execution": {
     "iopub.execute_input": "2023-09-08T14:48:41.484323Z",
     "iopub.status.busy": "2023-09-08T14:48:41.483325Z",
     "iopub.status.idle": "2023-09-08T14:48:41.508676Z",
     "shell.execute_reply": "2023-09-08T14:48:41.506428Z"
    },
    "papermill": {
     "duration": 0.036927,
     "end_time": "2023-09-08T14:48:41.511178",
     "exception": false,
     "start_time": "2023-09-08T14:48:41.474251",
     "status": "completed"
    },
    "tags": []
   },
   "outputs": [
    {
     "name": "stdout",
     "output_type": "stream",
     "text": [
      "      Campaign Name       Date  Spend [USD]  # of Impressions     Reach  \\\n",
      "0  Control Campaign  1.08.2019         2280           82702.0   56930.0   \n",
      "1  Control Campaign  2.08.2019         1757          121040.0  102513.0   \n",
      "2  Control Campaign  3.08.2019         2343          131711.0  110862.0   \n",
      "3  Control Campaign  4.08.2019         1940           72878.0   61235.0   \n",
      "4  Control Campaign  5.08.2019         1835               NaN       NaN   \n",
      "\n",
      "   # of Website Clicks  # of Searches  # of View Content  # of Add to Cart  \\\n",
      "0               7016.0         2290.0             2159.0            1819.0   \n",
      "1               8110.0         2033.0             1841.0            1219.0   \n",
      "2               6508.0         1737.0             1549.0            1134.0   \n",
      "3               3065.0         1042.0              982.0            1183.0   \n",
      "4                  NaN            NaN                NaN               NaN   \n",
      "\n",
      "   # of Purchase  \n",
      "0          618.0  \n",
      "1          511.0  \n",
      "2          372.0  \n",
      "3          340.0  \n",
      "4            NaN  \n"
     ]
    }
   ],
   "source": [
    "print(control_data.head())"
   ]
  },
  {
   "cell_type": "code",
   "execution_count": 4,
   "id": "4083885c",
   "metadata": {
    "execution": {
     "iopub.execute_input": "2023-09-08T14:48:41.528140Z",
     "iopub.status.busy": "2023-09-08T14:48:41.527573Z",
     "iopub.status.idle": "2023-09-08T14:48:41.539532Z",
     "shell.execute_reply": "2023-09-08T14:48:41.537521Z"
    },
    "papermill": {
     "duration": 0.023571,
     "end_time": "2023-09-08T14:48:41.542177",
     "exception": false,
     "start_time": "2023-09-08T14:48:41.518606",
     "status": "completed"
    },
    "tags": []
   },
   "outputs": [
    {
     "name": "stdout",
     "output_type": "stream",
     "text": [
      "   Campaign Name       Date  Spend [USD]  # of Impressions  Reach  \\\n",
      "0  Test Campaign  1.08.2019         3008             39550  35820   \n",
      "1  Test Campaign  2.08.2019         2542            100719  91236   \n",
      "2  Test Campaign  3.08.2019         2365             70263  45198   \n",
      "3  Test Campaign  4.08.2019         2710             78451  25937   \n",
      "4  Test Campaign  5.08.2019         2297            114295  95138   \n",
      "\n",
      "   # of Website Clicks  # of Searches  # of View Content  # of Add to Cart  \\\n",
      "0                 3038           1946               1069               894   \n",
      "1                 4657           2359               1548               879   \n",
      "2                 7885           2572               2367              1268   \n",
      "3                 4216           2216               1437               566   \n",
      "4                 5863           2106                858               956   \n",
      "\n",
      "   # of Purchase  \n",
      "0            255  \n",
      "1            677  \n",
      "2            578  \n",
      "3            340  \n",
      "4            768  \n"
     ]
    }
   ],
   "source": [
    "print(test_data.head())"
   ]
  },
  {
   "cell_type": "markdown",
   "id": "5614da2e",
   "metadata": {
    "papermill": {
     "duration": 0.00689,
     "end_time": "2023-09-08T14:48:41.556388",
     "exception": false,
     "start_time": "2023-09-08T14:48:41.549498",
     "status": "completed"
    },
    "tags": []
   },
   "source": [
    "# Data Preparation\n",
    "\n",
    "- The datasets have some errors in column names. Let’s give new column names before moving forward:"
   ]
  },
  {
   "cell_type": "code",
   "execution_count": 5,
   "id": "61c9653c",
   "metadata": {
    "execution": {
     "iopub.execute_input": "2023-09-08T14:48:41.573373Z",
     "iopub.status.busy": "2023-09-08T14:48:41.572863Z",
     "iopub.status.idle": "2023-09-08T14:48:41.582053Z",
     "shell.execute_reply": "2023-09-08T14:48:41.580762Z"
    },
    "papermill": {
     "duration": 0.021098,
     "end_time": "2023-09-08T14:48:41.584599",
     "exception": false,
     "start_time": "2023-09-08T14:48:41.563501",
     "status": "completed"
    },
    "tags": []
   },
   "outputs": [],
   "source": [
    "control_data.columns = [\"Campaign Name\", \"Date\", \"Amount Spent\", \n",
    "                        \"Number of Impressions\", \"Reach\", \"Website Clicks\", \n",
    "                        \"Searches Received\", \"Content Viewed\", \"Added to Cart\",\n",
    "                        \"Purchases\"]\n",
    "\n",
    "test_data.columns = [\"Campaign Name\", \"Date\", \"Amount Spent\", \n",
    "                        \"Number of Impressions\", \"Reach\", \"Website Clicks\", \n",
    "                        \"Searches Received\", \"Content Viewed\", \"Added to Cart\",\n",
    "                        \"Purchases\"]"
   ]
  },
  {
   "cell_type": "markdown",
   "id": "ade46e55",
   "metadata": {
    "papermill": {
     "duration": 0.007027,
     "end_time": "2023-09-08T14:48:41.599040",
     "exception": false,
     "start_time": "2023-09-08T14:48:41.592013",
     "status": "completed"
    },
    "tags": []
   },
   "source": [
    "# Values Check\n",
    "\n",
    "- Let’s see if the datasets have null values or not:"
   ]
  },
  {
   "cell_type": "code",
   "execution_count": 6,
   "id": "5327a164",
   "metadata": {
    "execution": {
     "iopub.execute_input": "2023-09-08T14:48:41.616340Z",
     "iopub.status.busy": "2023-09-08T14:48:41.615060Z",
     "iopub.status.idle": "2023-09-08T14:48:41.624335Z",
     "shell.execute_reply": "2023-09-08T14:48:41.623278Z"
    },
    "papermill": {
     "duration": 0.020541,
     "end_time": "2023-09-08T14:48:41.626787",
     "exception": false,
     "start_time": "2023-09-08T14:48:41.606246",
     "status": "completed"
    },
    "tags": []
   },
   "outputs": [
    {
     "name": "stdout",
     "output_type": "stream",
     "text": [
      "Campaign Name            0\n",
      "Date                     0\n",
      "Amount Spent             0\n",
      "Number of Impressions    1\n",
      "Reach                    1\n",
      "Website Clicks           1\n",
      "Searches Received        1\n",
      "Content Viewed           1\n",
      "Added to Cart            1\n",
      "Purchases                1\n",
      "dtype: int64\n"
     ]
    }
   ],
   "source": [
    "print(control_data.isnull().sum())"
   ]
  },
  {
   "cell_type": "code",
   "execution_count": 7,
   "id": "b1f94151",
   "metadata": {
    "execution": {
     "iopub.execute_input": "2023-09-08T14:48:41.644510Z",
     "iopub.status.busy": "2023-09-08T14:48:41.643417Z",
     "iopub.status.idle": "2023-09-08T14:48:41.654140Z",
     "shell.execute_reply": "2023-09-08T14:48:41.652394Z"
    },
    "papermill": {
     "duration": 0.022465,
     "end_time": "2023-09-08T14:48:41.656697",
     "exception": false,
     "start_time": "2023-09-08T14:48:41.634232",
     "status": "completed"
    },
    "tags": []
   },
   "outputs": [
    {
     "name": "stdout",
     "output_type": "stream",
     "text": [
      "Campaign Name            0\n",
      "Date                     0\n",
      "Amount Spent             0\n",
      "Number of Impressions    0\n",
      "Reach                    0\n",
      "Website Clicks           0\n",
      "Searches Received        0\n",
      "Content Viewed           0\n",
      "Added to Cart            0\n",
      "Purchases                0\n",
      "dtype: int64\n"
     ]
    }
   ],
   "source": [
    "print(test_data.isnull().sum())"
   ]
  },
  {
   "cell_type": "markdown",
   "id": "5d114541",
   "metadata": {
    "papermill": {
     "duration": 0.007195,
     "end_time": "2023-09-08T14:48:41.671468",
     "exception": false,
     "start_time": "2023-09-08T14:48:41.664273",
     "status": "completed"
    },
    "tags": []
   },
   "source": [
    "# Missing Values\n",
    "\n",
    "- The dataset of the control campaign has missing values in a row. Let’s fill in these missing values by the mean value of each column:"
   ]
  },
  {
   "cell_type": "code",
   "execution_count": 8,
   "id": "578c8ee3",
   "metadata": {
    "execution": {
     "iopub.execute_input": "2023-09-08T14:48:41.689301Z",
     "iopub.status.busy": "2023-09-08T14:48:41.688356Z",
     "iopub.status.idle": "2023-09-08T14:48:41.704710Z",
     "shell.execute_reply": "2023-09-08T14:48:41.703118Z"
    },
    "papermill": {
     "duration": 0.029579,
     "end_time": "2023-09-08T14:48:41.708614",
     "exception": false,
     "start_time": "2023-09-08T14:48:41.679035",
     "status": "completed"
    },
    "tags": []
   },
   "outputs": [],
   "source": [
    "control_data[\"Number of Impressions\"].fillna(value=control_data[\"Number of Impressions\"].mean(), \n",
    "                                             inplace=True)\n",
    "control_data[\"Reach\"].fillna(value=control_data[\"Reach\"].mean(), \n",
    "                             inplace=True)\n",
    "control_data[\"Website Clicks\"].fillna(value=control_data[\"Website Clicks\"].mean(), \n",
    "                                      inplace=True)\n",
    "control_data[\"Searches Received\"].fillna(value=control_data[\"Searches Received\"].mean(), \n",
    "                                         inplace=True)\n",
    "control_data[\"Content Viewed\"].fillna(value=control_data[\"Content Viewed\"].mean(), \n",
    "                                      inplace=True)\n",
    "control_data[\"Added to Cart\"].fillna(value=control_data[\"Added to Cart\"].mean(), \n",
    "                                     inplace=True)\n",
    "control_data[\"Purchases\"].fillna(value=control_data[\"Purchases\"].mean(), \n",
    "                                 inplace=True)"
   ]
  }
 ],
 "kernelspec": {
  "display_name": "Python 3",
  "language": "python",
  "name": "python3"
 },
 "language_info": {
  "codemirror_mode": {
   "name": "ipython",
   "version": 3
  },
  "file_extension": ".py",
  "mimetype": "text/x-python",
  "name": "python",
  "nbconvert_exporter": "python",
  "pygments_lexer": "ipython3",
  "version": "3.6.4"
 },
 "metadata": {
  "kernelspec": {
   "display_name": "Python 3",
   "language": "python",
   "name": "python3"
  },
  "language_info": {
   "codemirror_mode": {
    "name": "ipython",
    "version": 3
   },
   "file_extension": ".py",
   "mimetype": "text/x-python",
   "name": "python",
   "nbconvert_exporter": "python",
   "pygments_lexer": "ipython3",
   "version": "3.10.12"
  },
  "papermill": {
   "default_parameters": {},
   "duration": 7.99695,
   "end_time": "2023-09-08T14:48:42.541800",
   "environment_variables": {},
   "exception": null,
   "input_path": "__notebook__.ipynb",
   "output_path": "__notebook__.ipynb",
   "parameters": {},
   "start_time": "2023-09-08T14:48:34.544850",
   "version": "2.4.0"
  }
 },
 "nbformat": 4,
 "nbformat_minor": 5
}
