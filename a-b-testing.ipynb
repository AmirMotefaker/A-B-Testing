{
 "cells": [
  {
   "cell_type": "markdown",
   "id": "5d366ac3",
   "metadata": {
    "papermill": {
     "duration": 0.008186,
     "end_time": "2023-09-08T14:49:47.879842",
     "exception": false,
     "start_time": "2023-09-08T14:49:47.871656",
     "status": "completed"
    },
    "tags": []
   },
   "source": [
    "# Introduction\n",
    "\n",
    "- A/B Testing means analyzing two marketing strategies to choose the best marketing strategy that can convert more traffic into sales (or more traffic into your desired goal) effectively and efficiently. A/B testing is one of the valuable concepts that every Data Science professional should know."
   ]
  },
  {
   "cell_type": "markdown",
   "id": "8035eaea",
   "metadata": {
    "papermill": {
     "duration": 0.007453,
     "end_time": "2023-09-08T14:49:47.894823",
     "exception": false,
     "start_time": "2023-09-08T14:49:47.887370",
     "status": "completed"
    },
    "tags": []
   },
   "source": [
    "# A/B Testing\n",
    "\n",
    "- In A/B testing, we analyze the results of two marketing strategies to choose the best one for future marketing campaigns. For example, when I started an ad campaign on Instagram to promote my Instagram post for the very first time, my target audience was different from the target audience of my second ad campaign. After analyzing the results of both ad campaigns, I always preferred the audience of the second ad campaign as it gave better reach and followers than the first one.\n",
    "\n",
    "- That is what A/B testing means. Your goal can be to boost sales, followers, or traffic, but when we choose the best marketing strategy according to the results of our previous marketing campaigns, it is nothing but A/B testing.\n",
    "\n",
    "- For the task of A/B testing using Python, we need to have a dataset about two different marketing strategies for the same goal. "
   ]
  },
  {
   "cell_type": "markdown",
   "id": "eab38629",
   "metadata": {
    "papermill": {
     "duration": 0.007119,
     "end_time": "2023-09-08T14:49:47.909516",
     "exception": false,
     "start_time": "2023-09-08T14:49:47.902397",
     "status": "completed"
    },
    "tags": []
   },
   "source": [
    "# Import Libraries"
   ]
  },
  {
   "cell_type": "code",
   "execution_count": 1,
   "id": "2611c066",
   "metadata": {
    "execution": {
     "iopub.execute_input": "2023-09-08T14:49:47.926890Z",
     "iopub.status.busy": "2023-09-08T14:49:47.926376Z",
     "iopub.status.idle": "2023-09-08T14:49:50.805604Z",
     "shell.execute_reply": "2023-09-08T14:49:50.804247Z"
    },
    "papermill": {
     "duration": 2.892117,
     "end_time": "2023-09-08T14:49:50.809386",
     "exception": false,
     "start_time": "2023-09-08T14:49:47.917269",
     "status": "completed"
    },
    "tags": []
   },
   "outputs": [],
   "source": [
    "import pandas as pd\n",
    "import datetime\n",
    "from datetime import date, timedelta\n",
    "import plotly.graph_objects as go\n",
    "import plotly.express as px\n",
    "import plotly.io as pio\n",
    "pio.templates.default = \"plotly_white\""
   ]
  },
  {
   "cell_type": "markdown",
   "id": "e4f41c86",
   "metadata": {
    "papermill": {
     "duration": 0.007323,
     "end_time": "2023-09-08T14:49:50.825064",
     "exception": false,
     "start_time": "2023-09-08T14:49:50.817741",
     "status": "completed"
    },
    "tags": []
   },
   "source": [
    "# Read Data"
   ]
  },
  {
   "cell_type": "code",
   "execution_count": 2,
   "id": "aa528f99",
   "metadata": {
    "execution": {
     "iopub.execute_input": "2023-09-08T14:49:50.844076Z",
     "iopub.status.busy": "2023-09-08T14:49:50.842498Z",
     "iopub.status.idle": "2023-09-08T14:49:50.874413Z",
     "shell.execute_reply": "2023-09-08T14:49:50.873411Z"
    },
    "papermill": {
     "duration": 0.043992,
     "end_time": "2023-09-08T14:49:50.877000",
     "exception": false,
     "start_time": "2023-09-08T14:49:50.833008",
     "status": "completed"
    },
    "tags": []
   },
   "outputs": [],
   "source": [
    "control_data = pd.read_csv(\"/kaggle/input/ab-testing-dataset/control_group.csv\", sep = \";\")\n",
    "test_data = pd.read_csv(\"/kaggle/input/ab-testing-dataset/test_group.csv\", sep = \";\")"
   ]
  },
  {
   "cell_type": "code",
   "execution_count": 3,
   "id": "ec60f17c",
   "metadata": {
    "execution": {
     "iopub.execute_input": "2023-09-08T14:49:50.894728Z",
     "iopub.status.busy": "2023-09-08T14:49:50.893957Z",
     "iopub.status.idle": "2023-09-08T14:49:50.914600Z",
     "shell.execute_reply": "2023-09-08T14:49:50.913317Z"
    },
    "papermill": {
     "duration": 0.0325,
     "end_time": "2023-09-08T14:49:50.917461",
     "exception": false,
     "start_time": "2023-09-08T14:49:50.884961",
     "status": "completed"
    },
    "tags": []
   },
   "outputs": [
    {
     "name": "stdout",
     "output_type": "stream",
     "text": [
      "      Campaign Name       Date  Spend [USD]  # of Impressions     Reach  \\\n",
      "0  Control Campaign  1.08.2019         2280           82702.0   56930.0   \n",
      "1  Control Campaign  2.08.2019         1757          121040.0  102513.0   \n",
      "2  Control Campaign  3.08.2019         2343          131711.0  110862.0   \n",
      "3  Control Campaign  4.08.2019         1940           72878.0   61235.0   \n",
      "4  Control Campaign  5.08.2019         1835               NaN       NaN   \n",
      "\n",
      "   # of Website Clicks  # of Searches  # of View Content  # of Add to Cart  \\\n",
      "0               7016.0         2290.0             2159.0            1819.0   \n",
      "1               8110.0         2033.0             1841.0            1219.0   \n",
      "2               6508.0         1737.0             1549.0            1134.0   \n",
      "3               3065.0         1042.0              982.0            1183.0   \n",
      "4                  NaN            NaN                NaN               NaN   \n",
      "\n",
      "   # of Purchase  \n",
      "0          618.0  \n",
      "1          511.0  \n",
      "2          372.0  \n",
      "3          340.0  \n",
      "4            NaN  \n"
     ]
    }
   ],
   "source": [
    "print(control_data.head())"
   ]
  },
  {
   "cell_type": "code",
   "execution_count": 4,
   "id": "5515a775",
   "metadata": {
    "execution": {
     "iopub.execute_input": "2023-09-08T14:49:50.935248Z",
     "iopub.status.busy": "2023-09-08T14:49:50.934772Z",
     "iopub.status.idle": "2023-09-08T14:49:50.944281Z",
     "shell.execute_reply": "2023-09-08T14:49:50.943055Z"
    },
    "papermill": {
     "duration": 0.021582,
     "end_time": "2023-09-08T14:49:50.946961",
     "exception": false,
     "start_time": "2023-09-08T14:49:50.925379",
     "status": "completed"
    },
    "tags": []
   },
   "outputs": [
    {
     "name": "stdout",
     "output_type": "stream",
     "text": [
      "   Campaign Name       Date  Spend [USD]  # of Impressions  Reach  \\\n",
      "0  Test Campaign  1.08.2019         3008             39550  35820   \n",
      "1  Test Campaign  2.08.2019         2542            100719  91236   \n",
      "2  Test Campaign  3.08.2019         2365             70263  45198   \n",
      "3  Test Campaign  4.08.2019         2710             78451  25937   \n",
      "4  Test Campaign  5.08.2019         2297            114295  95138   \n",
      "\n",
      "   # of Website Clicks  # of Searches  # of View Content  # of Add to Cart  \\\n",
      "0                 3038           1946               1069               894   \n",
      "1                 4657           2359               1548               879   \n",
      "2                 7885           2572               2367              1268   \n",
      "3                 4216           2216               1437               566   \n",
      "4                 5863           2106                858               956   \n",
      "\n",
      "   # of Purchase  \n",
      "0            255  \n",
      "1            677  \n",
      "2            578  \n",
      "3            340  \n",
      "4            768  \n"
     ]
    }
   ],
   "source": [
    "print(test_data.head())"
   ]
  },
  {
   "cell_type": "markdown",
   "id": "ec6999eb",
   "metadata": {
    "papermill": {
     "duration": 0.007973,
     "end_time": "2023-09-08T14:49:50.962709",
     "exception": false,
     "start_time": "2023-09-08T14:49:50.954736",
     "status": "completed"
    },
    "tags": []
   },
   "source": [
    "# Data Preparation\n",
    "\n",
    "- The datasets have some errors in column names. Let’s give new column names before moving forward:"
   ]
  },
  {
   "cell_type": "code",
   "execution_count": 5,
   "id": "e7c57af8",
   "metadata": {
    "execution": {
     "iopub.execute_input": "2023-09-08T14:49:50.980903Z",
     "iopub.status.busy": "2023-09-08T14:49:50.980398Z",
     "iopub.status.idle": "2023-09-08T14:49:50.990371Z",
     "shell.execute_reply": "2023-09-08T14:49:50.989115Z"
    },
    "papermill": {
     "duration": 0.021851,
     "end_time": "2023-09-08T14:49:50.992925",
     "exception": false,
     "start_time": "2023-09-08T14:49:50.971074",
     "status": "completed"
    },
    "tags": []
   },
   "outputs": [],
   "source": [
    "control_data.columns = [\"Campaign Name\", \"Date\", \"Amount Spent\", \n",
    "                        \"Number of Impressions\", \"Reach\", \"Website Clicks\", \n",
    "                        \"Searches Received\", \"Content Viewed\", \"Added to Cart\",\n",
    "                        \"Purchases\"]\n",
    "\n",
    "test_data.columns = [\"Campaign Name\", \"Date\", \"Amount Spent\", \n",
    "                        \"Number of Impressions\", \"Reach\", \"Website Clicks\", \n",
    "                        \"Searches Received\", \"Content Viewed\", \"Added to Cart\",\n",
    "                        \"Purchases\"]"
   ]
  },
  {
   "cell_type": "markdown",
   "id": "251ed0f9",
   "metadata": {
    "papermill": {
     "duration": 0.007599,
     "end_time": "2023-09-08T14:49:51.009693",
     "exception": false,
     "start_time": "2023-09-08T14:49:51.002094",
     "status": "completed"
    },
    "tags": []
   },
   "source": [
    "# Values Check\n",
    "\n",
    "- Let’s see if the datasets have null values or not:"
   ]
  },
  {
   "cell_type": "code",
   "execution_count": 6,
   "id": "7da1e6a7",
   "metadata": {
    "execution": {
     "iopub.execute_input": "2023-09-08T14:49:51.030563Z",
     "iopub.status.busy": "2023-09-08T14:49:51.030127Z",
     "iopub.status.idle": "2023-09-08T14:49:51.038375Z",
     "shell.execute_reply": "2023-09-08T14:49:51.036949Z"
    },
    "papermill": {
     "duration": 0.020993,
     "end_time": "2023-09-08T14:49:51.041105",
     "exception": false,
     "start_time": "2023-09-08T14:49:51.020112",
     "status": "completed"
    },
    "tags": []
   },
   "outputs": [
    {
     "name": "stdout",
     "output_type": "stream",
     "text": [
      "Campaign Name            0\n",
      "Date                     0\n",
      "Amount Spent             0\n",
      "Number of Impressions    1\n",
      "Reach                    1\n",
      "Website Clicks           1\n",
      "Searches Received        1\n",
      "Content Viewed           1\n",
      "Added to Cart            1\n",
      "Purchases                1\n",
      "dtype: int64\n"
     ]
    }
   ],
   "source": [
    "print(control_data.isnull().sum())"
   ]
  },
  {
   "cell_type": "code",
   "execution_count": 7,
   "id": "9a567fbf",
   "metadata": {
    "execution": {
     "iopub.execute_input": "2023-09-08T14:49:51.059982Z",
     "iopub.status.busy": "2023-09-08T14:49:51.058680Z",
     "iopub.status.idle": "2023-09-08T14:49:51.067249Z",
     "shell.execute_reply": "2023-09-08T14:49:51.065894Z"
    },
    "papermill": {
     "duration": 0.020584,
     "end_time": "2023-09-08T14:49:51.069961",
     "exception": false,
     "start_time": "2023-09-08T14:49:51.049377",
     "status": "completed"
    },
    "tags": []
   },
   "outputs": [
    {
     "name": "stdout",
     "output_type": "stream",
     "text": [
      "Campaign Name            0\n",
      "Date                     0\n",
      "Amount Spent             0\n",
      "Number of Impressions    0\n",
      "Reach                    0\n",
      "Website Clicks           0\n",
      "Searches Received        0\n",
      "Content Viewed           0\n",
      "Added to Cart            0\n",
      "Purchases                0\n",
      "dtype: int64\n"
     ]
    }
   ],
   "source": [
    "print(test_data.isnull().sum())"
   ]
  },
  {
   "cell_type": "markdown",
   "id": "0f48740a",
   "metadata": {
    "papermill": {
     "duration": 0.007674,
     "end_time": "2023-09-08T14:49:51.085877",
     "exception": false,
     "start_time": "2023-09-08T14:49:51.078203",
     "status": "completed"
    },
    "tags": []
   },
   "source": [
    "# Missing Values\n",
    "\n",
    "- The dataset of the control campaign has missing values in a row. Let’s fill in these missing values by the mean value of each column:"
   ]
  },
  {
   "cell_type": "code",
   "execution_count": 8,
   "id": "023de689",
   "metadata": {
    "execution": {
     "iopub.execute_input": "2023-09-08T14:49:51.103496Z",
     "iopub.status.busy": "2023-09-08T14:49:51.103024Z",
     "iopub.status.idle": "2023-09-08T14:49:51.118772Z",
     "shell.execute_reply": "2023-09-08T14:49:51.117832Z"
    },
    "papermill": {
     "duration": 0.027422,
     "end_time": "2023-09-08T14:49:51.121130",
     "exception": false,
     "start_time": "2023-09-08T14:49:51.093708",
     "status": "completed"
    },
    "tags": []
   },
   "outputs": [],
   "source": [
    "control_data[\"Number of Impressions\"].fillna(value=control_data[\"Number of Impressions\"].mean(), \n",
    "                                             inplace=True)\n",
    "control_data[\"Reach\"].fillna(value=control_data[\"Reach\"].mean(), \n",
    "                             inplace=True)\n",
    "control_data[\"Website Clicks\"].fillna(value=control_data[\"Website Clicks\"].mean(), \n",
    "                                      inplace=True)\n",
    "control_data[\"Searches Received\"].fillna(value=control_data[\"Searches Received\"].mean(), \n",
    "                                         inplace=True)\n",
    "control_data[\"Content Viewed\"].fillna(value=control_data[\"Content Viewed\"].mean(), \n",
    "                                      inplace=True)\n",
    "control_data[\"Added to Cart\"].fillna(value=control_data[\"Added to Cart\"].mean(), \n",
    "                                     inplace=True)\n",
    "control_data[\"Purchases\"].fillna(value=control_data[\"Purchases\"].mean(), \n",
    "                                 inplace=True)"
   ]
  },
  {
   "cell_type": "markdown",
   "id": "fce69a2c",
   "metadata": {
    "papermill": {
     "duration": 0.007795,
     "end_time": "2023-09-08T14:49:51.136838",
     "exception": false,
     "start_time": "2023-09-08T14:49:51.129043",
     "status": "completed"
    },
    "tags": []
   },
   "source": [
    "# Merging DataSets\n",
    "\n",
    "- Create a new dataset by merging both datasets:"
   ]
  },
  {
   "cell_type": "code",
   "execution_count": 9,
   "id": "f86b2a45",
   "metadata": {
    "execution": {
     "iopub.execute_input": "2023-09-08T14:49:51.154384Z",
     "iopub.status.busy": "2023-09-08T14:49:51.153990Z",
     "iopub.status.idle": "2023-09-08T14:49:51.195607Z",
     "shell.execute_reply": "2023-09-08T14:49:51.194290Z"
    },
    "papermill": {
     "duration": 0.053552,
     "end_time": "2023-09-08T14:49:51.198303",
     "exception": false,
     "start_time": "2023-09-08T14:49:51.144751",
     "status": "completed"
    },
    "tags": []
   },
   "outputs": [
    {
     "name": "stdout",
     "output_type": "stream",
     "text": [
      "      Campaign Name        Date  Amount Spent  Number of Impressions    Reach  \\\n",
      "0  Control Campaign   1.08.2019          2280                82702.0  56930.0   \n",
      "1     Test Campaign   1.08.2019          3008                39550.0  35820.0   \n",
      "2     Test Campaign  10.08.2019          2790                95054.0  79632.0   \n",
      "3  Control Campaign  10.08.2019          2149               117624.0  91257.0   \n",
      "4     Test Campaign  11.08.2019          2420                83633.0  71286.0   \n",
      "\n",
      "   Website Clicks  Searches Received  Content Viewed  Added to Cart  Purchases  \n",
      "0          7016.0             2290.0          2159.0         1819.0      618.0  \n",
      "1          3038.0             1946.0          1069.0          894.0      255.0  \n",
      "2          8125.0             2312.0          1804.0          424.0      275.0  \n",
      "3          2277.0             2475.0          1984.0         1629.0      734.0  \n",
      "4          3750.0             2893.0          2617.0         1075.0      668.0  \n"
     ]
    },
    {
     "name": "stderr",
     "output_type": "stream",
     "text": [
      "/tmp/ipykernel_20/3418761701.py:1: UserWarning: You are merging on int and float columns where the float values are not equal to their int representation.\n",
      "  ab_data = control_data.merge(test_data,\n"
     ]
    }
   ],
   "source": [
    "ab_data = control_data.merge(test_data, \n",
    "                             how=\"outer\").sort_values([\"Date\"])\n",
    "ab_data = ab_data.reset_index(drop=True)\n",
    "print(ab_data.head())"
   ]
  }
 ],
 "kernelspec": {
  "display_name": "Python 3",
  "language": "python",
  "name": "python3"
 },
 "language_info": {
  "codemirror_mode": {
   "name": "ipython",
   "version": 3
  },
  "file_extension": ".py",
  "mimetype": "text/x-python",
  "name": "python",
  "nbconvert_exporter": "python",
  "pygments_lexer": "ipython3",
  "version": "3.6.4"
 },
 "metadata": {
  "kernelspec": {
   "display_name": "Python 3",
   "language": "python",
   "name": "python3"
  },
  "language_info": {
   "codemirror_mode": {
    "name": "ipython",
    "version": 3
   },
   "file_extension": ".py",
   "mimetype": "text/x-python",
   "name": "python",
   "nbconvert_exporter": "python",
   "pygments_lexer": "ipython3",
   "version": "3.10.12"
  },
  "papermill": {
   "default_parameters": {},
   "duration": 7.679065,
   "end_time": "2023-09-08T14:49:51.828308",
   "environment_variables": {},
   "exception": null,
   "input_path": "__notebook__.ipynb",
   "output_path": "__notebook__.ipynb",
   "parameters": {},
   "start_time": "2023-09-08T14:49:44.149243",
   "version": "2.4.0"
  }
 },
 "nbformat": 4,
 "nbformat_minor": 5
}
