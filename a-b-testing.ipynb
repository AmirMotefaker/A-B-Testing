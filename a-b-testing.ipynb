{
 "cells": [
  {
   "cell_type": "markdown",
   "id": "fd7a1754",
   "metadata": {
    "papermill": {
     "duration": 0.006601,
     "end_time": "2023-09-08T14:43:32.558163",
     "exception": false,
     "start_time": "2023-09-08T14:43:32.551562",
     "status": "completed"
    },
    "tags": []
   },
   "source": [
    "# Introduction\n",
    "\n",
    "- A/B Testing means analyzing two marketing strategies to choose the best marketing strategy that can convert more traffic into sales (or more traffic into your desired goal) effectively and efficiently. A/B testing is one of the valuable concepts that every Data Science professional should know."
   ]
  },
  {
   "cell_type": "markdown",
   "id": "5d0a62f2",
   "metadata": {
    "papermill": {
     "duration": 0.005277,
     "end_time": "2023-09-08T14:43:32.569328",
     "exception": false,
     "start_time": "2023-09-08T14:43:32.564051",
     "status": "completed"
    },
    "tags": []
   },
   "source": [
    "# A/B Testing\n",
    "\n",
    "- In A/B testing, we analyze the results of two marketing strategies to choose the best one for future marketing campaigns. For example, when I started an ad campaign on Instagram to promote my Instagram post for the very first time, my target audience was different from the target audience of my second ad campaign. After analyzing the results of both ad campaigns, I always preferred the audience of the second ad campaign as it gave better reach and followers than the first one.\n",
    "\n",
    "- That is what A/B testing means. Your goal can be to boost sales, followers, or traffic, but when we choose the best marketing strategy according to the results of our previous marketing campaigns, it is nothing but A/B testing.\n",
    "\n",
    "- For the task of A/B testing using Python, we need to have a dataset about two different marketing strategies for the same goal. "
   ]
  },
  {
   "cell_type": "markdown",
   "id": "953a31b5",
   "metadata": {
    "papermill": {
     "duration": 0.005317,
     "end_time": "2023-09-08T14:43:32.580157",
     "exception": false,
     "start_time": "2023-09-08T14:43:32.574840",
     "status": "completed"
    },
    "tags": []
   },
   "source": [
    "# Import Libraries"
   ]
  },
  {
   "cell_type": "code",
   "execution_count": 1,
   "id": "5b92028d",
   "metadata": {
    "execution": {
     "iopub.execute_input": "2023-09-08T14:43:32.594614Z",
     "iopub.status.busy": "2023-09-08T14:43:32.593683Z",
     "iopub.status.idle": "2023-09-08T14:43:35.403065Z",
     "shell.execute_reply": "2023-09-08T14:43:35.401919Z"
    },
    "papermill": {
     "duration": 2.820298,
     "end_time": "2023-09-08T14:43:35.406229",
     "exception": false,
     "start_time": "2023-09-08T14:43:32.585931",
     "status": "completed"
    },
    "tags": []
   },
   "outputs": [],
   "source": [
    "import pandas as pd\n",
    "import datetime\n",
    "from datetime import date, timedelta\n",
    "import plotly.graph_objects as go\n",
    "import plotly.express as px\n",
    "import plotly.io as pio\n",
    "pio.templates.default = \"plotly_white\""
   ]
  },
  {
   "cell_type": "markdown",
   "id": "31292da2",
   "metadata": {
    "papermill": {
     "duration": 0.005284,
     "end_time": "2023-09-08T14:43:35.417261",
     "exception": false,
     "start_time": "2023-09-08T14:43:35.411977",
     "status": "completed"
    },
    "tags": []
   },
   "source": [
    "# Read Data"
   ]
  },
  {
   "cell_type": "code",
   "execution_count": 2,
   "id": "78cddafb",
   "metadata": {
    "execution": {
     "iopub.execute_input": "2023-09-08T14:43:35.430854Z",
     "iopub.status.busy": "2023-09-08T14:43:35.430229Z",
     "iopub.status.idle": "2023-09-08T14:43:35.462766Z",
     "shell.execute_reply": "2023-09-08T14:43:35.461439Z"
    },
    "papermill": {
     "duration": 0.043259,
     "end_time": "2023-09-08T14:43:35.466067",
     "exception": false,
     "start_time": "2023-09-08T14:43:35.422808",
     "status": "completed"
    },
    "tags": []
   },
   "outputs": [],
   "source": [
    "control_data = pd.read_csv(\"/kaggle/input/ab-testing-dataset/control_group.csv\", sep = \";\")\n",
    "test_data = pd.read_csv(\"/kaggle/input/ab-testing-dataset/test_group.csv\", sep = \";\")"
   ]
  },
  {
   "cell_type": "code",
   "execution_count": 3,
   "id": "35563c7d",
   "metadata": {
    "execution": {
     "iopub.execute_input": "2023-09-08T14:43:35.480624Z",
     "iopub.status.busy": "2023-09-08T14:43:35.479952Z",
     "iopub.status.idle": "2023-09-08T14:43:35.500023Z",
     "shell.execute_reply": "2023-09-08T14:43:35.498690Z"
    },
    "papermill": {
     "duration": 0.02979,
     "end_time": "2023-09-08T14:43:35.502760",
     "exception": false,
     "start_time": "2023-09-08T14:43:35.472970",
     "status": "completed"
    },
    "tags": []
   },
   "outputs": [
    {
     "name": "stdout",
     "output_type": "stream",
     "text": [
      "      Campaign Name       Date  Spend [USD]  # of Impressions     Reach  \\\n",
      "0  Control Campaign  1.08.2019         2280           82702.0   56930.0   \n",
      "1  Control Campaign  2.08.2019         1757          121040.0  102513.0   \n",
      "2  Control Campaign  3.08.2019         2343          131711.0  110862.0   \n",
      "3  Control Campaign  4.08.2019         1940           72878.0   61235.0   \n",
      "4  Control Campaign  5.08.2019         1835               NaN       NaN   \n",
      "\n",
      "   # of Website Clicks  # of Searches  # of View Content  # of Add to Cart  \\\n",
      "0               7016.0         2290.0             2159.0            1819.0   \n",
      "1               8110.0         2033.0             1841.0            1219.0   \n",
      "2               6508.0         1737.0             1549.0            1134.0   \n",
      "3               3065.0         1042.0              982.0            1183.0   \n",
      "4                  NaN            NaN                NaN               NaN   \n",
      "\n",
      "   # of Purchase  \n",
      "0          618.0  \n",
      "1          511.0  \n",
      "2          372.0  \n",
      "3          340.0  \n",
      "4            NaN  \n"
     ]
    }
   ],
   "source": [
    "print(control_data.head())"
   ]
  },
  {
   "cell_type": "code",
   "execution_count": 4,
   "id": "95bdee26",
   "metadata": {
    "execution": {
     "iopub.execute_input": "2023-09-08T14:43:35.516069Z",
     "iopub.status.busy": "2023-09-08T14:43:35.515679Z",
     "iopub.status.idle": "2023-09-08T14:43:35.524944Z",
     "shell.execute_reply": "2023-09-08T14:43:35.523575Z"
    },
    "papermill": {
     "duration": 0.019296,
     "end_time": "2023-09-08T14:43:35.527910",
     "exception": false,
     "start_time": "2023-09-08T14:43:35.508614",
     "status": "completed"
    },
    "tags": []
   },
   "outputs": [
    {
     "name": "stdout",
     "output_type": "stream",
     "text": [
      "   Campaign Name       Date  Spend [USD]  # of Impressions  Reach  \\\n",
      "0  Test Campaign  1.08.2019         3008             39550  35820   \n",
      "1  Test Campaign  2.08.2019         2542            100719  91236   \n",
      "2  Test Campaign  3.08.2019         2365             70263  45198   \n",
      "3  Test Campaign  4.08.2019         2710             78451  25937   \n",
      "4  Test Campaign  5.08.2019         2297            114295  95138   \n",
      "\n",
      "   # of Website Clicks  # of Searches  # of View Content  # of Add to Cart  \\\n",
      "0                 3038           1946               1069               894   \n",
      "1                 4657           2359               1548               879   \n",
      "2                 7885           2572               2367              1268   \n",
      "3                 4216           2216               1437               566   \n",
      "4                 5863           2106                858               956   \n",
      "\n",
      "   # of Purchase  \n",
      "0            255  \n",
      "1            677  \n",
      "2            578  \n",
      "3            340  \n",
      "4            768  \n"
     ]
    }
   ],
   "source": [
    "print(test_data.head())"
   ]
  },
  {
   "cell_type": "markdown",
   "id": "fe20f63e",
   "metadata": {
    "papermill": {
     "duration": 0.005748,
     "end_time": "2023-09-08T14:43:35.539745",
     "exception": false,
     "start_time": "2023-09-08T14:43:35.533997",
     "status": "completed"
    },
    "tags": []
   },
   "source": [
    "# Data Preparation\n",
    "\n",
    "- The datasets have some errors in column names. Let’s give new column names before moving forward:"
   ]
  },
  {
   "cell_type": "code",
   "execution_count": 5,
   "id": "bb2559d2",
   "metadata": {
    "execution": {
     "iopub.execute_input": "2023-09-08T14:43:35.553088Z",
     "iopub.status.busy": "2023-09-08T14:43:35.552694Z",
     "iopub.status.idle": "2023-09-08T14:43:35.561441Z",
     "shell.execute_reply": "2023-09-08T14:43:35.560167Z"
    },
    "papermill": {
     "duration": 0.01827,
     "end_time": "2023-09-08T14:43:35.563791",
     "exception": false,
     "start_time": "2023-09-08T14:43:35.545521",
     "status": "completed"
    },
    "tags": []
   },
   "outputs": [],
   "source": [
    "control_data.columns = [\"Campaign Name\", \"Date\", \"Amount Spent\", \n",
    "                        \"Number of Impressions\", \"Reach\", \"Website Clicks\", \n",
    "                        \"Searches Received\", \"Content Viewed\", \"Added to Cart\",\n",
    "                        \"Purchases\"]\n",
    "\n",
    "test_data.columns = [\"Campaign Name\", \"Date\", \"Amount Spent\", \n",
    "                        \"Number of Impressions\", \"Reach\", \"Website Clicks\", \n",
    "                        \"Searches Received\", \"Content Viewed\", \"Added to Cart\",\n",
    "                        \"Purchases\"]"
   ]
  }
 ],
 "kernelspec": {
  "display_name": "Python 3",
  "language": "python",
  "name": "python3"
 },
 "language_info": {
  "codemirror_mode": {
   "name": "ipython",
   "version": 3
  },
  "file_extension": ".py",
  "mimetype": "text/x-python",
  "name": "python",
  "nbconvert_exporter": "python",
  "pygments_lexer": "ipython3",
  "version": "3.6.4"
 },
 "metadata": {
  "kernelspec": {
   "display_name": "Python 3",
   "language": "python",
   "name": "python3"
  },
  "language_info": {
   "codemirror_mode": {
    "name": "ipython",
    "version": 3
   },
   "file_extension": ".py",
   "mimetype": "text/x-python",
   "name": "python",
   "nbconvert_exporter": "python",
   "pygments_lexer": "ipython3",
   "version": "3.10.12"
  },
  "papermill": {
   "default_parameters": {},
   "duration": 7.32083,
   "end_time": "2023-09-08T14:43:36.190824",
   "environment_variables": {},
   "exception": null,
   "input_path": "__notebook__.ipynb",
   "output_path": "__notebook__.ipynb",
   "parameters": {},
   "start_time": "2023-09-08T14:43:28.869994",
   "version": "2.4.0"
  }
 },
 "nbformat": 4,
 "nbformat_minor": 5
}
