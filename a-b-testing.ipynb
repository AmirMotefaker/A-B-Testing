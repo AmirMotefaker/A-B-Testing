{
 "cells": [
  {
   "cell_type": "markdown",
   "id": "c92ceb90",
   "metadata": {
    "papermill": {
     "duration": 0.004162,
     "end_time": "2023-09-08T14:36:17.794174",
     "exception": false,
     "start_time": "2023-09-08T14:36:17.790012",
     "status": "completed"
    },
    "tags": []
   },
   "source": [
    "# Introduction\n",
    "\n",
    "- A/B Testing means analyzing two marketing strategies to choose the best marketing strategy that can convert more traffic into sales (or more traffic into your desired goal) effectively and efficiently. A/B testing is one of the valuable concepts that every Data Science professional should know."
   ]
  },
  {
   "cell_type": "markdown",
   "id": "65a07a7a",
   "metadata": {
    "papermill": {
     "duration": 0.003196,
     "end_time": "2023-09-08T14:36:17.801156",
     "exception": false,
     "start_time": "2023-09-08T14:36:17.797960",
     "status": "completed"
    },
    "tags": []
   },
   "source": [
    "# A/B Testing\n",
    "\n",
    "- In A/B testing, we analyze the results of two marketing strategies to choose the best one for future marketing campaigns. For example, when I started an ad campaign on Instagram to promote my Instagram post for the very first time, my target audience was different from the target audience of my second ad campaign. After analyzing the results of both ad campaigns, I always preferred the audience of the second ad campaign as it gave better reach and followers than the first one.\n",
    "\n",
    "- That is what A/B testing means. Your goal can be to boost sales, followers, or traffic, but when we choose the best marketing strategy according to the results of our previous marketing campaigns, it is nothing but A/B testing.\n",
    "\n",
    "- For the task of A/B testing using Python, we need to have a dataset about two different marketing strategies for the same goal. "
   ]
  },
  {
   "cell_type": "markdown",
   "id": "6c358784",
   "metadata": {
    "papermill": {
     "duration": 0.00315,
     "end_time": "2023-09-08T14:36:17.807696",
     "exception": false,
     "start_time": "2023-09-08T14:36:17.804546",
     "status": "completed"
    },
    "tags": []
   },
   "source": [
    "# Import Libraries"
   ]
  },
  {
   "cell_type": "code",
   "execution_count": 1,
   "id": "3b728b14",
   "metadata": {
    "execution": {
     "iopub.execute_input": "2023-09-08T14:36:17.816169Z",
     "iopub.status.busy": "2023-09-08T14:36:17.815760Z",
     "iopub.status.idle": "2023-09-08T14:36:20.694143Z",
     "shell.execute_reply": "2023-09-08T14:36:20.693337Z"
    },
    "papermill": {
     "duration": 2.885681,
     "end_time": "2023-09-08T14:36:20.696705",
     "exception": false,
     "start_time": "2023-09-08T14:36:17.811024",
     "status": "completed"
    },
    "tags": []
   },
   "outputs": [],
   "source": [
    "import pandas as pd\n",
    "import datetime\n",
    "from datetime import date, timedelta\n",
    "import plotly.graph_objects as go\n",
    "import plotly.express as px\n",
    "import plotly.io as pio\n",
    "pio.templates.default = \"plotly_white\""
   ]
  },
  {
   "cell_type": "markdown",
   "id": "5a6122ca",
   "metadata": {
    "papermill": {
     "duration": 0.004442,
     "end_time": "2023-09-08T14:36:20.708879",
     "exception": false,
     "start_time": "2023-09-08T14:36:20.704437",
     "status": "completed"
    },
    "tags": []
   },
   "source": [
    "# Read Data"
   ]
  },
  {
   "cell_type": "code",
   "execution_count": 2,
   "id": "d2e01c09",
   "metadata": {
    "execution": {
     "iopub.execute_input": "2023-09-08T14:36:20.718240Z",
     "iopub.status.busy": "2023-09-08T14:36:20.717699Z",
     "iopub.status.idle": "2023-09-08T14:36:20.745379Z",
     "shell.execute_reply": "2023-09-08T14:36:20.744213Z"
    },
    "papermill": {
     "duration": 0.034857,
     "end_time": "2023-09-08T14:36:20.747740",
     "exception": false,
     "start_time": "2023-09-08T14:36:20.712883",
     "status": "completed"
    },
    "tags": []
   },
   "outputs": [],
   "source": [
    "control_data = pd.read_csv(\"/kaggle/input/ab-testing-dataset/control_group.csv\", sep = \";\")\n",
    "test_data = pd.read_csv(\"/kaggle/input/ab-testing-dataset/test_group.csv\", sep = \";\")"
   ]
  }
 ],
 "kernelspec": {
  "display_name": "Python 3",
  "language": "python",
  "name": "python3"
 },
 "language_info": {
  "codemirror_mode": {
   "name": "ipython",
   "version": 3
  },
  "file_extension": ".py",
  "mimetype": "text/x-python",
  "name": "python",
  "nbconvert_exporter": "python",
  "pygments_lexer": "ipython3",
  "version": "3.6.4"
 },
 "metadata": {
  "kernelspec": {
   "display_name": "Python 3",
   "language": "python",
   "name": "python3"
  },
  "language_info": {
   "codemirror_mode": {
    "name": "ipython",
    "version": 3
   },
   "file_extension": ".py",
   "mimetype": "text/x-python",
   "name": "python",
   "nbconvert_exporter": "python",
   "pygments_lexer": "ipython3",
   "version": "3.10.12"
  },
  "papermill": {
   "default_parameters": {},
   "duration": 7.628472,
   "end_time": "2023-09-08T14:36:21.373219",
   "environment_variables": {},
   "exception": null,
   "input_path": "__notebook__.ipynb",
   "output_path": "__notebook__.ipynb",
   "parameters": {},
   "start_time": "2023-09-08T14:36:13.744747",
   "version": "2.4.0"
  }
 },
 "nbformat": 4,
 "nbformat_minor": 5
}
