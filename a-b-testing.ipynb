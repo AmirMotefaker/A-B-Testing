{
 "cells": [
  {
   "cell_type": "markdown",
   "id": "c6bd9a05",
   "metadata": {
    "papermill": {
     "duration": 0.009471,
     "end_time": "2023-09-08T14:51:05.983152",
     "exception": false,
     "start_time": "2023-09-08T14:51:05.973681",
     "status": "completed"
    },
    "tags": []
   },
   "source": [
    "# Introduction\n",
    "\n",
    "- A/B Testing means analyzing two marketing strategies to choose the best marketing strategy that can convert more traffic into sales (or more traffic into your desired goal) effectively and efficiently. A/B testing is one of the valuable concepts that every Data Science professional should know."
   ]
  },
  {
   "cell_type": "markdown",
   "id": "d5c5fafc",
   "metadata": {
    "papermill": {
     "duration": 0.007954,
     "end_time": "2023-09-08T14:51:05.999749",
     "exception": false,
     "start_time": "2023-09-08T14:51:05.991795",
     "status": "completed"
    },
    "tags": []
   },
   "source": [
    "# A/B Testing\n",
    "\n",
    "- In A/B testing, we analyze the results of two marketing strategies to choose the best one for future marketing campaigns. For example, when I started an ad campaign on Instagram to promote my Instagram post for the very first time, my target audience was different from the target audience of my second ad campaign. After analyzing the results of both ad campaigns, I always preferred the audience of the second ad campaign as it gave better reach and followers than the first one.\n",
    "\n",
    "- That is what A/B testing means. Your goal can be to boost sales, followers, or traffic, but when we choose the best marketing strategy according to the results of our previous marketing campaigns, it is nothing but A/B testing.\n",
    "\n",
    "- For the task of A/B testing using Python, we need to have a dataset about two different marketing strategies for the same goal. "
   ]
  },
  {
   "cell_type": "markdown",
   "id": "238cc71f",
   "metadata": {
    "papermill": {
     "duration": 0.008185,
     "end_time": "2023-09-08T14:51:06.017366",
     "exception": false,
     "start_time": "2023-09-08T14:51:06.009181",
     "status": "completed"
    },
    "tags": []
   },
   "source": [
    "# Import Libraries"
   ]
  },
  {
   "cell_type": "code",
   "execution_count": 1,
   "id": "3de0a9a7",
   "metadata": {
    "execution": {
     "iopub.execute_input": "2023-09-08T14:51:06.036816Z",
     "iopub.status.busy": "2023-09-08T14:51:06.036151Z",
     "iopub.status.idle": "2023-09-08T14:51:09.341475Z",
     "shell.execute_reply": "2023-09-08T14:51:09.340085Z"
    },
    "papermill": {
     "duration": 3.318988,
     "end_time": "2023-09-08T14:51:09.344646",
     "exception": false,
     "start_time": "2023-09-08T14:51:06.025658",
     "status": "completed"
    },
    "tags": []
   },
   "outputs": [],
   "source": [
    "import pandas as pd\n",
    "import datetime\n",
    "from datetime import date, timedelta\n",
    "import plotly.graph_objects as go\n",
    "import plotly.express as px\n",
    "import plotly.io as pio\n",
    "pio.templates.default = \"plotly_white\""
   ]
  },
  {
   "cell_type": "markdown",
   "id": "5dd1c1ed",
   "metadata": {
    "papermill": {
     "duration": 0.008911,
     "end_time": "2023-09-08T14:51:09.362350",
     "exception": false,
     "start_time": "2023-09-08T14:51:09.353439",
     "status": "completed"
    },
    "tags": []
   },
   "source": [
    "# Read Data"
   ]
  },
  {
   "cell_type": "code",
   "execution_count": 2,
   "id": "917e1315",
   "metadata": {
    "execution": {
     "iopub.execute_input": "2023-09-08T14:51:09.384024Z",
     "iopub.status.busy": "2023-09-08T14:51:09.382268Z",
     "iopub.status.idle": "2023-09-08T14:51:09.419057Z",
     "shell.execute_reply": "2023-09-08T14:51:09.417671Z"
    },
    "papermill": {
     "duration": 0.050887,
     "end_time": "2023-09-08T14:51:09.422328",
     "exception": false,
     "start_time": "2023-09-08T14:51:09.371441",
     "status": "completed"
    },
    "tags": []
   },
   "outputs": [],
   "source": [
    "control_data = pd.read_csv(\"/kaggle/input/ab-testing-dataset/control_group.csv\", sep = \";\")\n",
    "test_data = pd.read_csv(\"/kaggle/input/ab-testing-dataset/test_group.csv\", sep = \";\")"
   ]
  },
  {
   "cell_type": "code",
   "execution_count": 3,
   "id": "9e01264d",
   "metadata": {
    "execution": {
     "iopub.execute_input": "2023-09-08T14:51:09.442487Z",
     "iopub.status.busy": "2023-09-08T14:51:09.441873Z",
     "iopub.status.idle": "2023-09-08T14:51:09.466742Z",
     "shell.execute_reply": "2023-09-08T14:51:09.465069Z"
    },
    "papermill": {
     "duration": 0.03873,
     "end_time": "2023-09-08T14:51:09.469883",
     "exception": false,
     "start_time": "2023-09-08T14:51:09.431153",
     "status": "completed"
    },
    "tags": []
   },
   "outputs": [
    {
     "name": "stdout",
     "output_type": "stream",
     "text": [
      "      Campaign Name       Date  Spend [USD]  # of Impressions     Reach  \\\n",
      "0  Control Campaign  1.08.2019         2280           82702.0   56930.0   \n",
      "1  Control Campaign  2.08.2019         1757          121040.0  102513.0   \n",
      "2  Control Campaign  3.08.2019         2343          131711.0  110862.0   \n",
      "3  Control Campaign  4.08.2019         1940           72878.0   61235.0   \n",
      "4  Control Campaign  5.08.2019         1835               NaN       NaN   \n",
      "\n",
      "   # of Website Clicks  # of Searches  # of View Content  # of Add to Cart  \\\n",
      "0               7016.0         2290.0             2159.0            1819.0   \n",
      "1               8110.0         2033.0             1841.0            1219.0   \n",
      "2               6508.0         1737.0             1549.0            1134.0   \n",
      "3               3065.0         1042.0              982.0            1183.0   \n",
      "4                  NaN            NaN                NaN               NaN   \n",
      "\n",
      "   # of Purchase  \n",
      "0          618.0  \n",
      "1          511.0  \n",
      "2          372.0  \n",
      "3          340.0  \n",
      "4            NaN  \n"
     ]
    }
   ],
   "source": [
    "print(control_data.head())"
   ]
  },
  {
   "cell_type": "code",
   "execution_count": 4,
   "id": "12fddf81",
   "metadata": {
    "execution": {
     "iopub.execute_input": "2023-09-08T14:51:09.490331Z",
     "iopub.status.busy": "2023-09-08T14:51:09.489807Z",
     "iopub.status.idle": "2023-09-08T14:51:09.502155Z",
     "shell.execute_reply": "2023-09-08T14:51:09.500081Z"
    },
    "papermill": {
     "duration": 0.025579,
     "end_time": "2023-09-08T14:51:09.504850",
     "exception": false,
     "start_time": "2023-09-08T14:51:09.479271",
     "status": "completed"
    },
    "tags": []
   },
   "outputs": [
    {
     "name": "stdout",
     "output_type": "stream",
     "text": [
      "   Campaign Name       Date  Spend [USD]  # of Impressions  Reach  \\\n",
      "0  Test Campaign  1.08.2019         3008             39550  35820   \n",
      "1  Test Campaign  2.08.2019         2542            100719  91236   \n",
      "2  Test Campaign  3.08.2019         2365             70263  45198   \n",
      "3  Test Campaign  4.08.2019         2710             78451  25937   \n",
      "4  Test Campaign  5.08.2019         2297            114295  95138   \n",
      "\n",
      "   # of Website Clicks  # of Searches  # of View Content  # of Add to Cart  \\\n",
      "0                 3038           1946               1069               894   \n",
      "1                 4657           2359               1548               879   \n",
      "2                 7885           2572               2367              1268   \n",
      "3                 4216           2216               1437               566   \n",
      "4                 5863           2106                858               956   \n",
      "\n",
      "   # of Purchase  \n",
      "0            255  \n",
      "1            677  \n",
      "2            578  \n",
      "3            340  \n",
      "4            768  \n"
     ]
    }
   ],
   "source": [
    "print(test_data.head())"
   ]
  },
  {
   "cell_type": "markdown",
   "id": "66435aad",
   "metadata": {
    "papermill": {
     "duration": 0.00835,
     "end_time": "2023-09-08T14:51:09.522076",
     "exception": false,
     "start_time": "2023-09-08T14:51:09.513726",
     "status": "completed"
    },
    "tags": []
   },
   "source": [
    "# Data Preparation\n",
    "\n",
    "- The datasets have some errors in column names. Let’s give new column names before moving forward:"
   ]
  },
  {
   "cell_type": "code",
   "execution_count": 5,
   "id": "e7126dac",
   "metadata": {
    "execution": {
     "iopub.execute_input": "2023-09-08T14:51:09.542597Z",
     "iopub.status.busy": "2023-09-08T14:51:09.542100Z",
     "iopub.status.idle": "2023-09-08T14:51:09.552473Z",
     "shell.execute_reply": "2023-09-08T14:51:09.550675Z"
    },
    "papermill": {
     "duration": 0.023773,
     "end_time": "2023-09-08T14:51:09.555127",
     "exception": false,
     "start_time": "2023-09-08T14:51:09.531354",
     "status": "completed"
    },
    "tags": []
   },
   "outputs": [],
   "source": [
    "control_data.columns = [\"Campaign Name\", \"Date\", \"Amount Spent\", \n",
    "                        \"Number of Impressions\", \"Reach\", \"Website Clicks\", \n",
    "                        \"Searches Received\", \"Content Viewed\", \"Added to Cart\",\n",
    "                        \"Purchases\"]\n",
    "\n",
    "test_data.columns = [\"Campaign Name\", \"Date\", \"Amount Spent\", \n",
    "                        \"Number of Impressions\", \"Reach\", \"Website Clicks\", \n",
    "                        \"Searches Received\", \"Content Viewed\", \"Added to Cart\",\n",
    "                        \"Purchases\"]"
   ]
  },
  {
   "cell_type": "markdown",
   "id": "ac1aa67a",
   "metadata": {
    "papermill": {
     "duration": 0.008602,
     "end_time": "2023-09-08T14:51:09.572740",
     "exception": false,
     "start_time": "2023-09-08T14:51:09.564138",
     "status": "completed"
    },
    "tags": []
   },
   "source": [
    "# Values Check\n",
    "\n",
    "- Let’s see if the datasets have null values or not:"
   ]
  },
  {
   "cell_type": "code",
   "execution_count": 6,
   "id": "9e5a3644",
   "metadata": {
    "execution": {
     "iopub.execute_input": "2023-09-08T14:51:09.592215Z",
     "iopub.status.busy": "2023-09-08T14:51:09.591663Z",
     "iopub.status.idle": "2023-09-08T14:51:09.600315Z",
     "shell.execute_reply": "2023-09-08T14:51:09.599045Z"
    },
    "papermill": {
     "duration": 0.022119,
     "end_time": "2023-09-08T14:51:09.603501",
     "exception": false,
     "start_time": "2023-09-08T14:51:09.581382",
     "status": "completed"
    },
    "tags": []
   },
   "outputs": [
    {
     "name": "stdout",
     "output_type": "stream",
     "text": [
      "Campaign Name            0\n",
      "Date                     0\n",
      "Amount Spent             0\n",
      "Number of Impressions    1\n",
      "Reach                    1\n",
      "Website Clicks           1\n",
      "Searches Received        1\n",
      "Content Viewed           1\n",
      "Added to Cart            1\n",
      "Purchases                1\n",
      "dtype: int64\n"
     ]
    }
   ],
   "source": [
    "print(control_data.isnull().sum())"
   ]
  },
  {
   "cell_type": "code",
   "execution_count": 7,
   "id": "b3dede37",
   "metadata": {
    "execution": {
     "iopub.execute_input": "2023-09-08T14:51:09.624297Z",
     "iopub.status.busy": "2023-09-08T14:51:09.623196Z",
     "iopub.status.idle": "2023-09-08T14:51:09.632228Z",
     "shell.execute_reply": "2023-09-08T14:51:09.630719Z"
    },
    "papermill": {
     "duration": 0.023265,
     "end_time": "2023-09-08T14:51:09.635690",
     "exception": false,
     "start_time": "2023-09-08T14:51:09.612425",
     "status": "completed"
    },
    "tags": []
   },
   "outputs": [
    {
     "name": "stdout",
     "output_type": "stream",
     "text": [
      "Campaign Name            0\n",
      "Date                     0\n",
      "Amount Spent             0\n",
      "Number of Impressions    0\n",
      "Reach                    0\n",
      "Website Clicks           0\n",
      "Searches Received        0\n",
      "Content Viewed           0\n",
      "Added to Cart            0\n",
      "Purchases                0\n",
      "dtype: int64\n"
     ]
    }
   ],
   "source": [
    "print(test_data.isnull().sum())"
   ]
  },
  {
   "cell_type": "markdown",
   "id": "02a950b8",
   "metadata": {
    "papermill": {
     "duration": 0.008922,
     "end_time": "2023-09-08T14:51:09.653643",
     "exception": false,
     "start_time": "2023-09-08T14:51:09.644721",
     "status": "completed"
    },
    "tags": []
   },
   "source": [
    "# Missing Values\n",
    "\n",
    "- The dataset of the control campaign has missing values in a row. Let’s fill in these missing values by the mean value of each column:"
   ]
  },
  {
   "cell_type": "code",
   "execution_count": 8,
   "id": "da857357",
   "metadata": {
    "execution": {
     "iopub.execute_input": "2023-09-08T14:51:09.681579Z",
     "iopub.status.busy": "2023-09-08T14:51:09.680542Z",
     "iopub.status.idle": "2023-09-08T14:51:09.697049Z",
     "shell.execute_reply": "2023-09-08T14:51:09.695839Z"
    },
    "papermill": {
     "duration": 0.037519,
     "end_time": "2023-09-08T14:51:09.700002",
     "exception": false,
     "start_time": "2023-09-08T14:51:09.662483",
     "status": "completed"
    },
    "tags": []
   },
   "outputs": [],
   "source": [
    "control_data[\"Number of Impressions\"].fillna(value=control_data[\"Number of Impressions\"].mean(), \n",
    "                                             inplace=True)\n",
    "control_data[\"Reach\"].fillna(value=control_data[\"Reach\"].mean(), \n",
    "                             inplace=True)\n",
    "control_data[\"Website Clicks\"].fillna(value=control_data[\"Website Clicks\"].mean(), \n",
    "                                      inplace=True)\n",
    "control_data[\"Searches Received\"].fillna(value=control_data[\"Searches Received\"].mean(), \n",
    "                                         inplace=True)\n",
    "control_data[\"Content Viewed\"].fillna(value=control_data[\"Content Viewed\"].mean(), \n",
    "                                      inplace=True)\n",
    "control_data[\"Added to Cart\"].fillna(value=control_data[\"Added to Cart\"].mean(), \n",
    "                                     inplace=True)\n",
    "control_data[\"Purchases\"].fillna(value=control_data[\"Purchases\"].mean(), \n",
    "                                 inplace=True)"
   ]
  },
  {
   "cell_type": "markdown",
   "id": "a0c27019",
   "metadata": {
    "papermill": {
     "duration": 0.008665,
     "end_time": "2023-09-08T14:51:09.717393",
     "exception": false,
     "start_time": "2023-09-08T14:51:09.708728",
     "status": "completed"
    },
    "tags": []
   },
   "source": [
    "# Merging DataSets\n",
    "\n",
    "- Create a new dataset by merging both datasets:"
   ]
  },
  {
   "cell_type": "code",
   "execution_count": 9,
   "id": "65b54ec5",
   "metadata": {
    "execution": {
     "iopub.execute_input": "2023-09-08T14:51:09.738357Z",
     "iopub.status.busy": "2023-09-08T14:51:09.737253Z",
     "iopub.status.idle": "2023-09-08T14:51:09.793871Z",
     "shell.execute_reply": "2023-09-08T14:51:09.792623Z"
    },
    "papermill": {
     "duration": 0.072196,
     "end_time": "2023-09-08T14:51:09.798576",
     "exception": false,
     "start_time": "2023-09-08T14:51:09.726380",
     "status": "completed"
    },
    "tags": []
   },
   "outputs": [
    {
     "name": "stdout",
     "output_type": "stream",
     "text": [
      "      Campaign Name        Date  Amount Spent  Number of Impressions    Reach  \\\n",
      "0  Control Campaign   1.08.2019          2280                82702.0  56930.0   \n",
      "1     Test Campaign   1.08.2019          3008                39550.0  35820.0   \n",
      "2     Test Campaign  10.08.2019          2790                95054.0  79632.0   \n",
      "3  Control Campaign  10.08.2019          2149               117624.0  91257.0   \n",
      "4     Test Campaign  11.08.2019          2420                83633.0  71286.0   \n",
      "\n",
      "   Website Clicks  Searches Received  Content Viewed  Added to Cart  Purchases  \n",
      "0          7016.0             2290.0          2159.0         1819.0      618.0  \n",
      "1          3038.0             1946.0          1069.0          894.0      255.0  \n",
      "2          8125.0             2312.0          1804.0          424.0      275.0  \n",
      "3          2277.0             2475.0          1984.0         1629.0      734.0  \n",
      "4          3750.0             2893.0          2617.0         1075.0      668.0  \n"
     ]
    },
    {
     "name": "stderr",
     "output_type": "stream",
     "text": [
      "/tmp/ipykernel_20/3418761701.py:1: UserWarning: You are merging on int and float columns where the float values are not equal to their int representation.\n",
      "  ab_data = control_data.merge(test_data,\n"
     ]
    }
   ],
   "source": [
    "ab_data = control_data.merge(test_data, \n",
    "                             how=\"outer\").sort_values([\"Date\"])\n",
    "ab_data = ab_data.reset_index(drop=True)\n",
    "print(ab_data.head())"
   ]
  },
  {
   "cell_type": "markdown",
   "id": "0f1f6eae",
   "metadata": {
    "papermill": {
     "duration": 0.008748,
     "end_time": "2023-09-08T14:51:09.816614",
     "exception": false,
     "start_time": "2023-09-08T14:51:09.807866",
     "status": "completed"
    },
    "tags": []
   },
   "source": [
    "# Campaign Name\n",
    "\n",
    "- Before moving forward, let’s have a look if the dataset has an equal number of samples about both campaigns:"
   ]
  },
  {
   "cell_type": "code",
   "execution_count": 10,
   "id": "68421daa",
   "metadata": {
    "execution": {
     "iopub.execute_input": "2023-09-08T14:51:09.838630Z",
     "iopub.status.busy": "2023-09-08T14:51:09.837842Z",
     "iopub.status.idle": "2023-09-08T14:51:09.847939Z",
     "shell.execute_reply": "2023-09-08T14:51:09.846221Z"
    },
    "papermill": {
     "duration": 0.026152,
     "end_time": "2023-09-08T14:51:09.852075",
     "exception": false,
     "start_time": "2023-09-08T14:51:09.825923",
     "status": "completed"
    },
    "tags": []
   },
   "outputs": [
    {
     "name": "stdout",
     "output_type": "stream",
     "text": [
      "Campaign Name\n",
      "Control Campaign    30\n",
      "Test Campaign       30\n",
      "Name: count, dtype: int64\n"
     ]
    }
   ],
   "source": [
    "print(ab_data[\"Campaign Name\"].value_counts())"
   ]
  }
 ],
 "kernelspec": {
  "display_name": "Python 3",
  "language": "python",
  "name": "python3"
 },
 "language_info": {
  "codemirror_mode": {
   "name": "ipython",
   "version": 3
  },
  "file_extension": ".py",
  "mimetype": "text/x-python",
  "name": "python",
  "nbconvert_exporter": "python",
  "pygments_lexer": "ipython3",
  "version": "3.6.4"
 },
 "metadata": {
  "kernelspec": {
   "display_name": "Python 3",
   "language": "python",
   "name": "python3"
  },
  "language_info": {
   "codemirror_mode": {
    "name": "ipython",
    "version": 3
   },
   "file_extension": ".py",
   "mimetype": "text/x-python",
   "name": "python",
   "nbconvert_exporter": "python",
   "pygments_lexer": "ipython3",
   "version": "3.10.12"
  },
  "papermill": {
   "default_parameters": {},
   "duration": 8.915697,
   "end_time": "2023-09-08T14:51:10.687602",
   "environment_variables": {},
   "exception": null,
   "input_path": "__notebook__.ipynb",
   "output_path": "__notebook__.ipynb",
   "parameters": {},
   "start_time": "2023-09-08T14:51:01.771905",
   "version": "2.4.0"
  }
 },
 "nbformat": 4,
 "nbformat_minor": 5
}
