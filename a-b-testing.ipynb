{
 "cells": [
  {
   "cell_type": "markdown",
   "id": "5ff74e1d",
   "metadata": {
    "papermill": {
     "duration": 0.007429,
     "end_time": "2023-09-08T14:44:42.717540",
     "exception": false,
     "start_time": "2023-09-08T14:44:42.710111",
     "status": "completed"
    },
    "tags": []
   },
   "source": [
    "# Introduction\n",
    "\n",
    "- A/B Testing means analyzing two marketing strategies to choose the best marketing strategy that can convert more traffic into sales (or more traffic into your desired goal) effectively and efficiently. A/B testing is one of the valuable concepts that every Data Science professional should know."
   ]
  },
  {
   "cell_type": "markdown",
   "id": "547e2775",
   "metadata": {
    "papermill": {
     "duration": 0.006193,
     "end_time": "2023-09-08T14:44:42.731715",
     "exception": false,
     "start_time": "2023-09-08T14:44:42.725522",
     "status": "completed"
    },
    "tags": []
   },
   "source": [
    "# A/B Testing\n",
    "\n",
    "- In A/B testing, we analyze the results of two marketing strategies to choose the best one for future marketing campaigns. For example, when I started an ad campaign on Instagram to promote my Instagram post for the very first time, my target audience was different from the target audience of my second ad campaign. After analyzing the results of both ad campaigns, I always preferred the audience of the second ad campaign as it gave better reach and followers than the first one.\n",
    "\n",
    "- That is what A/B testing means. Your goal can be to boost sales, followers, or traffic, but when we choose the best marketing strategy according to the results of our previous marketing campaigns, it is nothing but A/B testing.\n",
    "\n",
    "- For the task of A/B testing using Python, we need to have a dataset about two different marketing strategies for the same goal. "
   ]
  },
  {
   "cell_type": "markdown",
   "id": "08985277",
   "metadata": {
    "papermill": {
     "duration": 0.007051,
     "end_time": "2023-09-08T14:44:42.745211",
     "exception": false,
     "start_time": "2023-09-08T14:44:42.738160",
     "status": "completed"
    },
    "tags": []
   },
   "source": [
    "# Import Libraries"
   ]
  },
  {
   "cell_type": "code",
   "execution_count": 1,
   "id": "f1089173",
   "metadata": {
    "execution": {
     "iopub.execute_input": "2023-09-08T14:44:42.760939Z",
     "iopub.status.busy": "2023-09-08T14:44:42.760400Z",
     "iopub.status.idle": "2023-09-08T14:44:46.520185Z",
     "shell.execute_reply": "2023-09-08T14:44:46.518971Z"
    },
    "papermill": {
     "duration": 3.771377,
     "end_time": "2023-09-08T14:44:46.523296",
     "exception": false,
     "start_time": "2023-09-08T14:44:42.751919",
     "status": "completed"
    },
    "tags": []
   },
   "outputs": [],
   "source": [
    "import pandas as pd\n",
    "import datetime\n",
    "from datetime import date, timedelta\n",
    "import plotly.graph_objects as go\n",
    "import plotly.express as px\n",
    "import plotly.io as pio\n",
    "pio.templates.default = \"plotly_white\""
   ]
  },
  {
   "cell_type": "markdown",
   "id": "4ac4b34a",
   "metadata": {
    "papermill": {
     "duration": 0.006316,
     "end_time": "2023-09-08T14:44:46.536239",
     "exception": false,
     "start_time": "2023-09-08T14:44:46.529923",
     "status": "completed"
    },
    "tags": []
   },
   "source": [
    "# Read Data"
   ]
  },
  {
   "cell_type": "code",
   "execution_count": 2,
   "id": "d4318f70",
   "metadata": {
    "execution": {
     "iopub.execute_input": "2023-09-08T14:44:46.552816Z",
     "iopub.status.busy": "2023-09-08T14:44:46.552209Z",
     "iopub.status.idle": "2023-09-08T14:44:46.583345Z",
     "shell.execute_reply": "2023-09-08T14:44:46.582042Z"
    },
    "papermill": {
     "duration": 0.042499,
     "end_time": "2023-09-08T14:44:46.586354",
     "exception": false,
     "start_time": "2023-09-08T14:44:46.543855",
     "status": "completed"
    },
    "tags": []
   },
   "outputs": [],
   "source": [
    "control_data = pd.read_csv(\"/kaggle/input/ab-testing-dataset/control_group.csv\", sep = \";\")\n",
    "test_data = pd.read_csv(\"/kaggle/input/ab-testing-dataset/test_group.csv\", sep = \";\")"
   ]
  },
  {
   "cell_type": "code",
   "execution_count": 3,
   "id": "82a3a63e",
   "metadata": {
    "execution": {
     "iopub.execute_input": "2023-09-08T14:44:46.601845Z",
     "iopub.status.busy": "2023-09-08T14:44:46.601284Z",
     "iopub.status.idle": "2023-09-08T14:44:46.625482Z",
     "shell.execute_reply": "2023-09-08T14:44:46.624408Z"
    },
    "papermill": {
     "duration": 0.035478,
     "end_time": "2023-09-08T14:44:46.628450",
     "exception": false,
     "start_time": "2023-09-08T14:44:46.592972",
     "status": "completed"
    },
    "tags": []
   },
   "outputs": [
    {
     "name": "stdout",
     "output_type": "stream",
     "text": [
      "      Campaign Name       Date  Spend [USD]  # of Impressions     Reach  \\\n",
      "0  Control Campaign  1.08.2019         2280           82702.0   56930.0   \n",
      "1  Control Campaign  2.08.2019         1757          121040.0  102513.0   \n",
      "2  Control Campaign  3.08.2019         2343          131711.0  110862.0   \n",
      "3  Control Campaign  4.08.2019         1940           72878.0   61235.0   \n",
      "4  Control Campaign  5.08.2019         1835               NaN       NaN   \n",
      "\n",
      "   # of Website Clicks  # of Searches  # of View Content  # of Add to Cart  \\\n",
      "0               7016.0         2290.0             2159.0            1819.0   \n",
      "1               8110.0         2033.0             1841.0            1219.0   \n",
      "2               6508.0         1737.0             1549.0            1134.0   \n",
      "3               3065.0         1042.0              982.0            1183.0   \n",
      "4                  NaN            NaN                NaN               NaN   \n",
      "\n",
      "   # of Purchase  \n",
      "0          618.0  \n",
      "1          511.0  \n",
      "2          372.0  \n",
      "3          340.0  \n",
      "4            NaN  \n"
     ]
    }
   ],
   "source": [
    "print(control_data.head())"
   ]
  },
  {
   "cell_type": "code",
   "execution_count": 4,
   "id": "6ff86ba2",
   "metadata": {
    "execution": {
     "iopub.execute_input": "2023-09-08T14:44:46.645064Z",
     "iopub.status.busy": "2023-09-08T14:44:46.644312Z",
     "iopub.status.idle": "2023-09-08T14:44:46.654746Z",
     "shell.execute_reply": "2023-09-08T14:44:46.653508Z"
    },
    "papermill": {
     "duration": 0.021711,
     "end_time": "2023-09-08T14:44:46.657238",
     "exception": false,
     "start_time": "2023-09-08T14:44:46.635527",
     "status": "completed"
    },
    "tags": []
   },
   "outputs": [
    {
     "name": "stdout",
     "output_type": "stream",
     "text": [
      "   Campaign Name       Date  Spend [USD]  # of Impressions  Reach  \\\n",
      "0  Test Campaign  1.08.2019         3008             39550  35820   \n",
      "1  Test Campaign  2.08.2019         2542            100719  91236   \n",
      "2  Test Campaign  3.08.2019         2365             70263  45198   \n",
      "3  Test Campaign  4.08.2019         2710             78451  25937   \n",
      "4  Test Campaign  5.08.2019         2297            114295  95138   \n",
      "\n",
      "   # of Website Clicks  # of Searches  # of View Content  # of Add to Cart  \\\n",
      "0                 3038           1946               1069               894   \n",
      "1                 4657           2359               1548               879   \n",
      "2                 7885           2572               2367              1268   \n",
      "3                 4216           2216               1437               566   \n",
      "4                 5863           2106                858               956   \n",
      "\n",
      "   # of Purchase  \n",
      "0            255  \n",
      "1            677  \n",
      "2            578  \n",
      "3            340  \n",
      "4            768  \n"
     ]
    }
   ],
   "source": [
    "print(test_data.head())"
   ]
  },
  {
   "cell_type": "markdown",
   "id": "0695946f",
   "metadata": {
    "papermill": {
     "duration": 0.006487,
     "end_time": "2023-09-08T14:44:46.670788",
     "exception": false,
     "start_time": "2023-09-08T14:44:46.664301",
     "status": "completed"
    },
    "tags": []
   },
   "source": [
    "# Data Preparation\n",
    "\n",
    "- The datasets have some errors in column names. Let’s give new column names before moving forward:"
   ]
  },
  {
   "cell_type": "code",
   "execution_count": 5,
   "id": "3b212d84",
   "metadata": {
    "execution": {
     "iopub.execute_input": "2023-09-08T14:44:46.686517Z",
     "iopub.status.busy": "2023-09-08T14:44:46.686072Z",
     "iopub.status.idle": "2023-09-08T14:44:46.694485Z",
     "shell.execute_reply": "2023-09-08T14:44:46.693139Z"
    },
    "papermill": {
     "duration": 0.019405,
     "end_time": "2023-09-08T14:44:46.697017",
     "exception": false,
     "start_time": "2023-09-08T14:44:46.677612",
     "status": "completed"
    },
    "tags": []
   },
   "outputs": [],
   "source": [
    "control_data.columns = [\"Campaign Name\", \"Date\", \"Amount Spent\", \n",
    "                        \"Number of Impressions\", \"Reach\", \"Website Clicks\", \n",
    "                        \"Searches Received\", \"Content Viewed\", \"Added to Cart\",\n",
    "                        \"Purchases\"]\n",
    "\n",
    "test_data.columns = [\"Campaign Name\", \"Date\", \"Amount Spent\", \n",
    "                        \"Number of Impressions\", \"Reach\", \"Website Clicks\", \n",
    "                        \"Searches Received\", \"Content Viewed\", \"Added to Cart\",\n",
    "                        \"Purchases\"]"
   ]
  },
  {
   "cell_type": "markdown",
   "id": "509c4859",
   "metadata": {
    "papermill": {
     "duration": 0.006407,
     "end_time": "2023-09-08T14:44:46.710206",
     "exception": false,
     "start_time": "2023-09-08T14:44:46.703799",
     "status": "completed"
    },
    "tags": []
   },
   "source": [
    "# Values Check\n",
    "\n",
    "- Let’s see if the datasets have null values or not:"
   ]
  },
  {
   "cell_type": "code",
   "execution_count": 6,
   "id": "27df9cca",
   "metadata": {
    "execution": {
     "iopub.execute_input": "2023-09-08T14:44:46.725580Z",
     "iopub.status.busy": "2023-09-08T14:44:46.725151Z",
     "iopub.status.idle": "2023-09-08T14:44:46.733063Z",
     "shell.execute_reply": "2023-09-08T14:44:46.731436Z"
    },
    "papermill": {
     "duration": 0.018625,
     "end_time": "2023-09-08T14:44:46.735527",
     "exception": false,
     "start_time": "2023-09-08T14:44:46.716902",
     "status": "completed"
    },
    "tags": []
   },
   "outputs": [
    {
     "name": "stdout",
     "output_type": "stream",
     "text": [
      "Campaign Name            0\n",
      "Date                     0\n",
      "Amount Spent             0\n",
      "Number of Impressions    1\n",
      "Reach                    1\n",
      "Website Clicks           1\n",
      "Searches Received        1\n",
      "Content Viewed           1\n",
      "Added to Cart            1\n",
      "Purchases                1\n",
      "dtype: int64\n"
     ]
    }
   ],
   "source": [
    "print(control_data.isnull().sum())"
   ]
  },
  {
   "cell_type": "code",
   "execution_count": 7,
   "id": "7e3b48de",
   "metadata": {
    "execution": {
     "iopub.execute_input": "2023-09-08T14:44:46.751484Z",
     "iopub.status.busy": "2023-09-08T14:44:46.751069Z",
     "iopub.status.idle": "2023-09-08T14:44:46.757919Z",
     "shell.execute_reply": "2023-09-08T14:44:46.757007Z"
    },
    "papermill": {
     "duration": 0.017418,
     "end_time": "2023-09-08T14:44:46.760237",
     "exception": false,
     "start_time": "2023-09-08T14:44:46.742819",
     "status": "completed"
    },
    "tags": []
   },
   "outputs": [
    {
     "name": "stdout",
     "output_type": "stream",
     "text": [
      "Campaign Name            0\n",
      "Date                     0\n",
      "Amount Spent             0\n",
      "Number of Impressions    0\n",
      "Reach                    0\n",
      "Website Clicks           0\n",
      "Searches Received        0\n",
      "Content Viewed           0\n",
      "Added to Cart            0\n",
      "Purchases                0\n",
      "dtype: int64\n"
     ]
    }
   ],
   "source": [
    "print(test_data.isnull().sum())"
   ]
  }
 ],
 "kernelspec": {
  "display_name": "Python 3",
  "language": "python",
  "name": "python3"
 },
 "language_info": {
  "codemirror_mode": {
   "name": "ipython",
   "version": 3
  },
  "file_extension": ".py",
  "mimetype": "text/x-python",
  "name": "python",
  "nbconvert_exporter": "python",
  "pygments_lexer": "ipython3",
  "version": "3.6.4"
 },
 "metadata": {
  "kernelspec": {
   "display_name": "Python 3",
   "language": "python",
   "name": "python3"
  },
  "language_info": {
   "codemirror_mode": {
    "name": "ipython",
    "version": 3
   },
   "file_extension": ".py",
   "mimetype": "text/x-python",
   "name": "python",
   "nbconvert_exporter": "python",
   "pygments_lexer": "ipython3",
   "version": "3.10.12"
  },
  "papermill": {
   "default_parameters": {},
   "duration": 10.084502,
   "end_time": "2023-09-08T14:44:47.489421",
   "environment_variables": {},
   "exception": null,
   "input_path": "__notebook__.ipynb",
   "output_path": "__notebook__.ipynb",
   "parameters": {},
   "start_time": "2023-09-08T14:44:37.404919",
   "version": "2.4.0"
  }
 },
 "nbformat": 4,
 "nbformat_minor": 5
}
