{
 "cells": [
  {
   "cell_type": "markdown",
   "id": "5fd8fef7",
   "metadata": {
    "papermill": {
     "duration": 0.009064,
     "end_time": "2023-09-08T14:51:35.689508",
     "exception": false,
     "start_time": "2023-09-08T14:51:35.680444",
     "status": "completed"
    },
    "tags": []
   },
   "source": [
    "# Introduction\n",
    "\n",
    "- A/B Testing means analyzing two marketing strategies to choose the best marketing strategy that can convert more traffic into sales (or more traffic into your desired goal) effectively and efficiently. A/B testing is one of the valuable concepts that every Data Science professional should know."
   ]
  },
  {
   "cell_type": "markdown",
   "id": "003f8598",
   "metadata": {
    "papermill": {
     "duration": 0.008033,
     "end_time": "2023-09-08T14:51:35.705887",
     "exception": false,
     "start_time": "2023-09-08T14:51:35.697854",
     "status": "completed"
    },
    "tags": []
   },
   "source": [
    "# A/B Testing\n",
    "\n",
    "- In A/B testing, we analyze the results of two marketing strategies to choose the best one for future marketing campaigns. For example, when I started an ad campaign on Instagram to promote my Instagram post for the very first time, my target audience was different from the target audience of my second ad campaign. After analyzing the results of both ad campaigns, I always preferred the audience of the second ad campaign as it gave better reach and followers than the first one.\n",
    "\n",
    "- That is what A/B testing means. Your goal can be to boost sales, followers, or traffic, but when we choose the best marketing strategy according to the results of our previous marketing campaigns, it is nothing but A/B testing.\n",
    "\n",
    "- For the task of A/B testing using Python, we need to have a dataset about two different marketing strategies for the same goal. "
   ]
  },
  {
   "cell_type": "markdown",
   "id": "664d3882",
   "metadata": {
    "papermill": {
     "duration": 0.007872,
     "end_time": "2023-09-08T14:51:35.722011",
     "exception": false,
     "start_time": "2023-09-08T14:51:35.714139",
     "status": "completed"
    },
    "tags": []
   },
   "source": [
    "# Import Libraries"
   ]
  },
  {
   "cell_type": "code",
   "execution_count": 1,
   "id": "da2123f8",
   "metadata": {
    "execution": {
     "iopub.execute_input": "2023-09-08T14:51:35.740737Z",
     "iopub.status.busy": "2023-09-08T14:51:35.740163Z",
     "iopub.status.idle": "2023-09-08T14:51:38.556479Z",
     "shell.execute_reply": "2023-09-08T14:51:38.555224Z"
    },
    "papermill": {
     "duration": 2.829341,
     "end_time": "2023-09-08T14:51:38.559385",
     "exception": false,
     "start_time": "2023-09-08T14:51:35.730044",
     "status": "completed"
    },
    "tags": []
   },
   "outputs": [],
   "source": [
    "import pandas as pd\n",
    "import datetime\n",
    "from datetime import date, timedelta\n",
    "import plotly.graph_objects as go\n",
    "import plotly.express as px\n",
    "import plotly.io as pio\n",
    "pio.templates.default = \"plotly_white\""
   ]
  },
  {
   "cell_type": "markdown",
   "id": "9ddec50b",
   "metadata": {
    "papermill": {
     "duration": 0.007902,
     "end_time": "2023-09-08T14:51:38.575792",
     "exception": false,
     "start_time": "2023-09-08T14:51:38.567890",
     "status": "completed"
    },
    "tags": []
   },
   "source": [
    "# Read Data"
   ]
  },
  {
   "cell_type": "code",
   "execution_count": 2,
   "id": "0f523c53",
   "metadata": {
    "execution": {
     "iopub.execute_input": "2023-09-08T14:51:38.594143Z",
     "iopub.status.busy": "2023-09-08T14:51:38.593512Z",
     "iopub.status.idle": "2023-09-08T14:51:38.626848Z",
     "shell.execute_reply": "2023-09-08T14:51:38.625487Z"
    },
    "papermill": {
     "duration": 0.045757,
     "end_time": "2023-09-08T14:51:38.629660",
     "exception": false,
     "start_time": "2023-09-08T14:51:38.583903",
     "status": "completed"
    },
    "tags": []
   },
   "outputs": [],
   "source": [
    "control_data = pd.read_csv(\"/kaggle/input/ab-testing-dataset/control_group.csv\", sep = \";\")\n",
    "test_data = pd.read_csv(\"/kaggle/input/ab-testing-dataset/test_group.csv\", sep = \";\")"
   ]
  },
  {
   "cell_type": "code",
   "execution_count": 3,
   "id": "b2120943",
   "metadata": {
    "execution": {
     "iopub.execute_input": "2023-09-08T14:51:38.648283Z",
     "iopub.status.busy": "2023-09-08T14:51:38.647607Z",
     "iopub.status.idle": "2023-09-08T14:51:38.669036Z",
     "shell.execute_reply": "2023-09-08T14:51:38.667886Z"
    },
    "papermill": {
     "duration": 0.034092,
     "end_time": "2023-09-08T14:51:38.672043",
     "exception": false,
     "start_time": "2023-09-08T14:51:38.637951",
     "status": "completed"
    },
    "tags": []
   },
   "outputs": [
    {
     "name": "stdout",
     "output_type": "stream",
     "text": [
      "      Campaign Name       Date  Spend [USD]  # of Impressions     Reach  \\\n",
      "0  Control Campaign  1.08.2019         2280           82702.0   56930.0   \n",
      "1  Control Campaign  2.08.2019         1757          121040.0  102513.0   \n",
      "2  Control Campaign  3.08.2019         2343          131711.0  110862.0   \n",
      "3  Control Campaign  4.08.2019         1940           72878.0   61235.0   \n",
      "4  Control Campaign  5.08.2019         1835               NaN       NaN   \n",
      "\n",
      "   # of Website Clicks  # of Searches  # of View Content  # of Add to Cart  \\\n",
      "0               7016.0         2290.0             2159.0            1819.0   \n",
      "1               8110.0         2033.0             1841.0            1219.0   \n",
      "2               6508.0         1737.0             1549.0            1134.0   \n",
      "3               3065.0         1042.0              982.0            1183.0   \n",
      "4                  NaN            NaN                NaN               NaN   \n",
      "\n",
      "   # of Purchase  \n",
      "0          618.0  \n",
      "1          511.0  \n",
      "2          372.0  \n",
      "3          340.0  \n",
      "4            NaN  \n"
     ]
    }
   ],
   "source": [
    "print(control_data.head())"
   ]
  },
  {
   "cell_type": "code",
   "execution_count": 4,
   "id": "b14dfdc4",
   "metadata": {
    "execution": {
     "iopub.execute_input": "2023-09-08T14:51:38.691101Z",
     "iopub.status.busy": "2023-09-08T14:51:38.690695Z",
     "iopub.status.idle": "2023-09-08T14:51:38.699367Z",
     "shell.execute_reply": "2023-09-08T14:51:38.698571Z"
    },
    "papermill": {
     "duration": 0.020834,
     "end_time": "2023-09-08T14:51:38.701870",
     "exception": false,
     "start_time": "2023-09-08T14:51:38.681036",
     "status": "completed"
    },
    "tags": []
   },
   "outputs": [
    {
     "name": "stdout",
     "output_type": "stream",
     "text": [
      "   Campaign Name       Date  Spend [USD]  # of Impressions  Reach  \\\n",
      "0  Test Campaign  1.08.2019         3008             39550  35820   \n",
      "1  Test Campaign  2.08.2019         2542            100719  91236   \n",
      "2  Test Campaign  3.08.2019         2365             70263  45198   \n",
      "3  Test Campaign  4.08.2019         2710             78451  25937   \n",
      "4  Test Campaign  5.08.2019         2297            114295  95138   \n",
      "\n",
      "   # of Website Clicks  # of Searches  # of View Content  # of Add to Cart  \\\n",
      "0                 3038           1946               1069               894   \n",
      "1                 4657           2359               1548               879   \n",
      "2                 7885           2572               2367              1268   \n",
      "3                 4216           2216               1437               566   \n",
      "4                 5863           2106                858               956   \n",
      "\n",
      "   # of Purchase  \n",
      "0            255  \n",
      "1            677  \n",
      "2            578  \n",
      "3            340  \n",
      "4            768  \n"
     ]
    }
   ],
   "source": [
    "print(test_data.head())"
   ]
  },
  {
   "cell_type": "markdown",
   "id": "7bae070a",
   "metadata": {
    "papermill": {
     "duration": 0.007948,
     "end_time": "2023-09-08T14:51:38.718118",
     "exception": false,
     "start_time": "2023-09-08T14:51:38.710170",
     "status": "completed"
    },
    "tags": []
   },
   "source": [
    "# Data Preparation\n",
    "\n",
    "- The datasets have some errors in column names. Let’s give new column names before moving forward:"
   ]
  },
  {
   "cell_type": "code",
   "execution_count": 5,
   "id": "9882eaf3",
   "metadata": {
    "execution": {
     "iopub.execute_input": "2023-09-08T14:51:38.737091Z",
     "iopub.status.busy": "2023-09-08T14:51:38.736333Z",
     "iopub.status.idle": "2023-09-08T14:51:38.743415Z",
     "shell.execute_reply": "2023-09-08T14:51:38.742582Z"
    },
    "papermill": {
     "duration": 0.019297,
     "end_time": "2023-09-08T14:51:38.745796",
     "exception": false,
     "start_time": "2023-09-08T14:51:38.726499",
     "status": "completed"
    },
    "tags": []
   },
   "outputs": [],
   "source": [
    "control_data.columns = [\"Campaign Name\", \"Date\", \"Amount Spent\", \n",
    "                        \"Number of Impressions\", \"Reach\", \"Website Clicks\", \n",
    "                        \"Searches Received\", \"Content Viewed\", \"Added to Cart\",\n",
    "                        \"Purchases\"]\n",
    "\n",
    "test_data.columns = [\"Campaign Name\", \"Date\", \"Amount Spent\", \n",
    "                        \"Number of Impressions\", \"Reach\", \"Website Clicks\", \n",
    "                        \"Searches Received\", \"Content Viewed\", \"Added to Cart\",\n",
    "                        \"Purchases\"]"
   ]
  },
  {
   "cell_type": "markdown",
   "id": "fb8e6bd0",
   "metadata": {
    "papermill": {
     "duration": 0.008223,
     "end_time": "2023-09-08T14:51:38.762527",
     "exception": false,
     "start_time": "2023-09-08T14:51:38.754304",
     "status": "completed"
    },
    "tags": []
   },
   "source": [
    "# Values Check\n",
    "\n",
    "- Let’s see if the datasets have null values or not:"
   ]
  },
  {
   "cell_type": "code",
   "execution_count": 6,
   "id": "ad524a8a",
   "metadata": {
    "execution": {
     "iopub.execute_input": "2023-09-08T14:51:38.781428Z",
     "iopub.status.busy": "2023-09-08T14:51:38.780649Z",
     "iopub.status.idle": "2023-09-08T14:51:38.787888Z",
     "shell.execute_reply": "2023-09-08T14:51:38.786424Z"
    },
    "papermill": {
     "duration": 0.019493,
     "end_time": "2023-09-08T14:51:38.790304",
     "exception": false,
     "start_time": "2023-09-08T14:51:38.770811",
     "status": "completed"
    },
    "tags": []
   },
   "outputs": [
    {
     "name": "stdout",
     "output_type": "stream",
     "text": [
      "Campaign Name            0\n",
      "Date                     0\n",
      "Amount Spent             0\n",
      "Number of Impressions    1\n",
      "Reach                    1\n",
      "Website Clicks           1\n",
      "Searches Received        1\n",
      "Content Viewed           1\n",
      "Added to Cart            1\n",
      "Purchases                1\n",
      "dtype: int64\n"
     ]
    }
   ],
   "source": [
    "print(control_data.isnull().sum())"
   ]
  },
  {
   "cell_type": "code",
   "execution_count": 7,
   "id": "1f220323",
   "metadata": {
    "execution": {
     "iopub.execute_input": "2023-09-08T14:51:38.809644Z",
     "iopub.status.busy": "2023-09-08T14:51:38.808902Z",
     "iopub.status.idle": "2023-09-08T14:51:38.816099Z",
     "shell.execute_reply": "2023-09-08T14:51:38.814833Z"
    },
    "papermill": {
     "duration": 0.01937,
     "end_time": "2023-09-08T14:51:38.818255",
     "exception": false,
     "start_time": "2023-09-08T14:51:38.798885",
     "status": "completed"
    },
    "tags": []
   },
   "outputs": [
    {
     "name": "stdout",
     "output_type": "stream",
     "text": [
      "Campaign Name            0\n",
      "Date                     0\n",
      "Amount Spent             0\n",
      "Number of Impressions    0\n",
      "Reach                    0\n",
      "Website Clicks           0\n",
      "Searches Received        0\n",
      "Content Viewed           0\n",
      "Added to Cart            0\n",
      "Purchases                0\n",
      "dtype: int64\n"
     ]
    }
   ],
   "source": [
    "print(test_data.isnull().sum())"
   ]
  },
  {
   "cell_type": "markdown",
   "id": "597d010a",
   "metadata": {
    "papermill": {
     "duration": 0.00824,
     "end_time": "2023-09-08T14:51:38.835089",
     "exception": false,
     "start_time": "2023-09-08T14:51:38.826849",
     "status": "completed"
    },
    "tags": []
   },
   "source": [
    "# Missing Values\n",
    "\n",
    "- The dataset of the control campaign has missing values in a row. Let’s fill in these missing values by the mean value of each column:"
   ]
  },
  {
   "cell_type": "code",
   "execution_count": 8,
   "id": "98bf7ffd",
   "metadata": {
    "execution": {
     "iopub.execute_input": "2023-09-08T14:51:38.854321Z",
     "iopub.status.busy": "2023-09-08T14:51:38.853631Z",
     "iopub.status.idle": "2023-09-08T14:51:38.868348Z",
     "shell.execute_reply": "2023-09-08T14:51:38.867439Z"
    },
    "papermill": {
     "duration": 0.027521,
     "end_time": "2023-09-08T14:51:38.871122",
     "exception": false,
     "start_time": "2023-09-08T14:51:38.843601",
     "status": "completed"
    },
    "tags": []
   },
   "outputs": [],
   "source": [
    "control_data[\"Number of Impressions\"].fillna(value=control_data[\"Number of Impressions\"].mean(), \n",
    "                                             inplace=True)\n",
    "control_data[\"Reach\"].fillna(value=control_data[\"Reach\"].mean(), \n",
    "                             inplace=True)\n",
    "control_data[\"Website Clicks\"].fillna(value=control_data[\"Website Clicks\"].mean(), \n",
    "                                      inplace=True)\n",
    "control_data[\"Searches Received\"].fillna(value=control_data[\"Searches Received\"].mean(), \n",
    "                                         inplace=True)\n",
    "control_data[\"Content Viewed\"].fillna(value=control_data[\"Content Viewed\"].mean(), \n",
    "                                      inplace=True)\n",
    "control_data[\"Added to Cart\"].fillna(value=control_data[\"Added to Cart\"].mean(), \n",
    "                                     inplace=True)\n",
    "control_data[\"Purchases\"].fillna(value=control_data[\"Purchases\"].mean(), \n",
    "                                 inplace=True)"
   ]
  },
  {
   "cell_type": "markdown",
   "id": "f4685850",
   "metadata": {
    "papermill": {
     "duration": 0.008253,
     "end_time": "2023-09-08T14:51:38.888018",
     "exception": false,
     "start_time": "2023-09-08T14:51:38.879765",
     "status": "completed"
    },
    "tags": []
   },
   "source": [
    "# Merging DataSets\n",
    "\n",
    "- Create a new dataset by merging both datasets:"
   ]
  },
  {
   "cell_type": "code",
   "execution_count": 9,
   "id": "09cf87b7",
   "metadata": {
    "execution": {
     "iopub.execute_input": "2023-09-08T14:51:38.907173Z",
     "iopub.status.busy": "2023-09-08T14:51:38.906750Z",
     "iopub.status.idle": "2023-09-08T14:51:38.947720Z",
     "shell.execute_reply": "2023-09-08T14:51:38.945944Z"
    },
    "papermill": {
     "duration": 0.053595,
     "end_time": "2023-09-08T14:51:38.950163",
     "exception": false,
     "start_time": "2023-09-08T14:51:38.896568",
     "status": "completed"
    },
    "tags": []
   },
   "outputs": [
    {
     "name": "stdout",
     "output_type": "stream",
     "text": [
      "      Campaign Name        Date  Amount Spent  Number of Impressions    Reach  \\\n",
      "0  Control Campaign   1.08.2019          2280                82702.0  56930.0   \n",
      "1     Test Campaign   1.08.2019          3008                39550.0  35820.0   \n",
      "2     Test Campaign  10.08.2019          2790                95054.0  79632.0   \n",
      "3  Control Campaign  10.08.2019          2149               117624.0  91257.0   \n",
      "4     Test Campaign  11.08.2019          2420                83633.0  71286.0   \n",
      "\n",
      "   Website Clicks  Searches Received  Content Viewed  Added to Cart  Purchases  \n",
      "0          7016.0             2290.0          2159.0         1819.0      618.0  \n",
      "1          3038.0             1946.0          1069.0          894.0      255.0  \n",
      "2          8125.0             2312.0          1804.0          424.0      275.0  \n",
      "3          2277.0             2475.0          1984.0         1629.0      734.0  \n",
      "4          3750.0             2893.0          2617.0         1075.0      668.0  \n"
     ]
    },
    {
     "name": "stderr",
     "output_type": "stream",
     "text": [
      "/tmp/ipykernel_20/3418761701.py:1: UserWarning: You are merging on int and float columns where the float values are not equal to their int representation.\n",
      "  ab_data = control_data.merge(test_data,\n"
     ]
    }
   ],
   "source": [
    "ab_data = control_data.merge(test_data, \n",
    "                             how=\"outer\").sort_values([\"Date\"])\n",
    "ab_data = ab_data.reset_index(drop=True)\n",
    "print(ab_data.head())"
   ]
  },
  {
   "cell_type": "markdown",
   "id": "515cff03",
   "metadata": {
    "papermill": {
     "duration": 0.008723,
     "end_time": "2023-09-08T14:51:38.968096",
     "exception": false,
     "start_time": "2023-09-08T14:51:38.959373",
     "status": "completed"
    },
    "tags": []
   },
   "source": [
    "# Campaign Name\n",
    "\n",
    "- Before moving forward, let’s have a look if the dataset has an equal number of samples about both campaigns:"
   ]
  },
  {
   "cell_type": "code",
   "execution_count": 10,
   "id": "2ae07cc4",
   "metadata": {
    "execution": {
     "iopub.execute_input": "2023-09-08T14:51:38.987642Z",
     "iopub.status.busy": "2023-09-08T14:51:38.987182Z",
     "iopub.status.idle": "2023-09-08T14:51:38.995618Z",
     "shell.execute_reply": "2023-09-08T14:51:38.994128Z"
    },
    "papermill": {
     "duration": 0.021178,
     "end_time": "2023-09-08T14:51:38.997917",
     "exception": false,
     "start_time": "2023-09-08T14:51:38.976739",
     "status": "completed"
    },
    "tags": []
   },
   "outputs": [
    {
     "name": "stdout",
     "output_type": "stream",
     "text": [
      "Campaign Name\n",
      "Control Campaign    30\n",
      "Test Campaign       30\n",
      "Name: count, dtype: int64\n"
     ]
    }
   ],
   "source": [
    "print(ab_data[\"Campaign Name\"].value_counts())"
   ]
  },
  {
   "cell_type": "markdown",
   "id": "0bc082c7",
   "metadata": {
    "papermill": {
     "duration": 0.009064,
     "end_time": "2023-09-08T14:51:39.015998",
     "exception": false,
     "start_time": "2023-09-08T14:51:39.006934",
     "status": "completed"
    },
    "tags": []
   },
   "source": [
    "### The dataset has 30 samples for each campaign. Now let’s start with A/B testing to find the best marketing strategy."
   ]
  }
 ],
 "kernelspec": {
  "display_name": "Python 3",
  "language": "python",
  "name": "python3"
 },
 "language_info": {
  "codemirror_mode": {
   "name": "ipython",
   "version": 3
  },
  "file_extension": ".py",
  "mimetype": "text/x-python",
  "name": "python",
  "nbconvert_exporter": "python",
  "pygments_lexer": "ipython3",
  "version": "3.6.4"
 },
 "metadata": {
  "kernelspec": {
   "display_name": "Python 3",
   "language": "python",
   "name": "python3"
  },
  "language_info": {
   "codemirror_mode": {
    "name": "ipython",
    "version": 3
   },
   "file_extension": ".py",
   "mimetype": "text/x-python",
   "name": "python",
   "nbconvert_exporter": "python",
   "pygments_lexer": "ipython3",
   "version": "3.10.12"
  },
  "papermill": {
   "default_parameters": {},
   "duration": 7.793387,
   "end_time": "2023-09-08T14:51:39.645966",
   "environment_variables": {},
   "exception": null,
   "input_path": "__notebook__.ipynb",
   "output_path": "__notebook__.ipynb",
   "parameters": {},
   "start_time": "2023-09-08T14:51:31.852579",
   "version": "2.4.0"
  }
 },
 "nbformat": 4,
 "nbformat_minor": 5
}
