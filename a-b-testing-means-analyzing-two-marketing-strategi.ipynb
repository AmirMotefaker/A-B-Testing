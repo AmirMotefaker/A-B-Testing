{
 "cells": [
  {
   "cell_type": "markdown",
   "id": "89e8eef6",
   "metadata": {
    "papermill": {
     "duration": 0.004308,
     "end_time": "2023-09-08T14:30:09.157726",
     "exception": false,
     "start_time": "2023-09-08T14:30:09.153418",
     "status": "completed"
    },
    "tags": []
   },
   "source": [
    "# Introduction\n",
    "\n",
    "- A/B Testing means analyzing two marketing strategies to choose the best marketing strategy that can convert more traffic into sales (or more traffic into your desired goal) effectively and efficiently. A/B testing is one of the valuable concepts that every Data Science professional should know."
   ]
  },
  {
   "cell_type": "markdown",
   "id": "98938715",
   "metadata": {
    "papermill": {
     "duration": 0.004065,
     "end_time": "2023-09-08T14:30:09.167415",
     "exception": false,
     "start_time": "2023-09-08T14:30:09.163350",
     "status": "completed"
    },
    "tags": []
   },
   "source": [
    "# A/B Testing\n",
    "\n",
    "- In A/B testing, we analyze the results of two marketing strategies to choose the best one for future marketing campaigns. For example, when I started an ad campaign on Instagram to promote my Instagram post for the very first time, my target audience was different from the target audience of my second ad campaign. After analyzing the results of both ad campaigns, I always preferred the audience of the second ad campaign as it gave better reach and followers than the first one.\n",
    "\n",
    "- That is what A/B testing means. Your goal can be to boost sales, followers, or traffic, but when we choose the best marketing strategy according to the results of our previous marketing campaigns, it is nothing but A/B testing.\n",
    "\n",
    "- For the task of A/B testing using Python, we need to have a dataset about two different marketing strategies for the same goal. "
   ]
  },
  {
   "cell_type": "markdown",
   "id": "7aaad2fa",
   "metadata": {
    "papermill": {
     "duration": 0.003095,
     "end_time": "2023-09-08T14:30:09.174023",
     "exception": false,
     "start_time": "2023-09-08T14:30:09.170928",
     "status": "completed"
    },
    "tags": []
   },
   "source": [
    "# Import Libraries"
   ]
  },
  {
   "cell_type": "code",
   "execution_count": 1,
   "id": "827785b0",
   "metadata": {
    "execution": {
     "iopub.execute_input": "2023-09-08T14:30:09.183257Z",
     "iopub.status.busy": "2023-09-08T14:30:09.182496Z",
     "iopub.status.idle": "2023-09-08T14:30:11.738902Z",
     "shell.execute_reply": "2023-09-08T14:30:11.737742Z"
    },
    "papermill": {
     "duration": 2.564434,
     "end_time": "2023-09-08T14:30:11.741878",
     "exception": false,
     "start_time": "2023-09-08T14:30:09.177444",
     "status": "completed"
    },
    "tags": []
   },
   "outputs": [],
   "source": [
    "import pandas as pd\n",
    "import datetime\n",
    "from datetime import date, timedelta\n",
    "import plotly.graph_objects as go\n",
    "import plotly.express as px\n",
    "import plotly.io as pio\n",
    "pio.templates.default = \"plotly_white\""
   ]
  }
 ],
 "kernelspec": {
  "display_name": "Python 3",
  "language": "python",
  "name": "python3"
 },
 "language_info": {
  "codemirror_mode": {
   "name": "ipython",
   "version": 3
  },
  "file_extension": ".py",
  "mimetype": "text/x-python",
  "name": "python",
  "nbconvert_exporter": "python",
  "pygments_lexer": "ipython3",
  "version": "3.6.4"
 },
 "metadata": {
  "kernelspec": {
   "display_name": "Python 3",
   "language": "python",
   "name": "python3"
  },
  "language_info": {
   "codemirror_mode": {
    "name": "ipython",
    "version": 3
   },
   "file_extension": ".py",
   "mimetype": "text/x-python",
   "name": "python",
   "nbconvert_exporter": "python",
   "pygments_lexer": "ipython3",
   "version": "3.10.12"
  },
  "papermill": {
   "default_parameters": {},
   "duration": 6.64057,
   "end_time": "2023-09-08T14:30:12.265320",
   "environment_variables": {},
   "exception": null,
   "input_path": "__notebook__.ipynb",
   "output_path": "__notebook__.ipynb",
   "parameters": {},
   "start_time": "2023-09-08T14:30:05.624750",
   "version": "2.4.0"
  }
 },
 "nbformat": 4,
 "nbformat_minor": 5
}
