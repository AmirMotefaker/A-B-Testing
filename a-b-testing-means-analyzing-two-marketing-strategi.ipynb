{
 "cells": [
  {
   "cell_type": "markdown",
   "id": "563e6022",
   "metadata": {
    "papermill": {
     "duration": 0.004357,
     "end_time": "2023-09-08T14:30:29.918844",
     "exception": false,
     "start_time": "2023-09-08T14:30:29.914487",
     "status": "completed"
    },
    "tags": []
   },
   "source": [
    "# Introduction\n",
    "\n",
    "- A/B Testing means analyzing two marketing strategies to choose the best marketing strategy that can convert more traffic into sales (or more traffic into your desired goal) effectively and efficiently. A/B testing is one of the valuable concepts that every Data Science professional should know."
   ]
  },
  {
   "cell_type": "markdown",
   "id": "08f0e3ad",
   "metadata": {
    "papermill": {
     "duration": 0.003317,
     "end_time": "2023-09-08T14:30:29.927760",
     "exception": false,
     "start_time": "2023-09-08T14:30:29.924443",
     "status": "completed"
    },
    "tags": []
   },
   "source": [
    "# A/B Testing\n",
    "\n",
    "- In A/B testing, we analyze the results of two marketing strategies to choose the best one for future marketing campaigns. For example, when I started an ad campaign on Instagram to promote my Instagram post for the very first time, my target audience was different from the target audience of my second ad campaign. After analyzing the results of both ad campaigns, I always preferred the audience of the second ad campaign as it gave better reach and followers than the first one.\n",
    "\n",
    "- That is what A/B testing means. Your goal can be to boost sales, followers, or traffic, but when we choose the best marketing strategy according to the results of our previous marketing campaigns, it is nothing but A/B testing.\n",
    "\n",
    "- For the task of A/B testing using Python, we need to have a dataset about two different marketing strategies for the same goal. "
   ]
  },
  {
   "cell_type": "markdown",
   "id": "821893f4",
   "metadata": {
    "papermill": {
     "duration": 0.003202,
     "end_time": "2023-09-08T14:30:29.934455",
     "exception": false,
     "start_time": "2023-09-08T14:30:29.931253",
     "status": "completed"
    },
    "tags": []
   },
   "source": [
    "# Import Libraries"
   ]
  },
  {
   "cell_type": "code",
   "execution_count": 1,
   "id": "c939b697",
   "metadata": {
    "execution": {
     "iopub.execute_input": "2023-09-08T14:30:29.943498Z",
     "iopub.status.busy": "2023-09-08T14:30:29.942819Z",
     "iopub.status.idle": "2023-09-08T14:30:32.614073Z",
     "shell.execute_reply": "2023-09-08T14:30:32.612935Z"
    },
    "papermill": {
     "duration": 2.679121,
     "end_time": "2023-09-08T14:30:32.616984",
     "exception": false,
     "start_time": "2023-09-08T14:30:29.937863",
     "status": "completed"
    },
    "tags": []
   },
   "outputs": [],
   "source": [
    "import pandas as pd\n",
    "import datetime\n",
    "from datetime import date, timedelta\n",
    "import plotly.graph_objects as go\n",
    "import plotly.express as px\n",
    "import plotly.io as pio\n",
    "pio.templates.default = \"plotly_white\""
   ]
  }
 ],
 "kernelspec": {
  "display_name": "Python 3",
  "language": "python",
  "name": "python3"
 },
 "language_info": {
  "codemirror_mode": {
   "name": "ipython",
   "version": 3
  },
  "file_extension": ".py",
  "mimetype": "text/x-python",
  "name": "python",
  "nbconvert_exporter": "python",
  "pygments_lexer": "ipython3",
  "version": "3.6.4"
 },
 "metadata": {
  "kernelspec": {
   "display_name": "Python 3",
   "language": "python",
   "name": "python3"
  },
  "language_info": {
   "codemirror_mode": {
    "name": "ipython",
    "version": 3
   },
   "file_extension": ".py",
   "mimetype": "text/x-python",
   "name": "python",
   "nbconvert_exporter": "python",
   "pygments_lexer": "ipython3",
   "version": "3.10.12"
  },
  "papermill": {
   "default_parameters": {},
   "duration": 6.743496,
   "end_time": "2023-09-08T14:30:33.142545",
   "environment_variables": {},
   "exception": null,
   "input_path": "__notebook__.ipynb",
   "output_path": "__notebook__.ipynb",
   "parameters": {},
   "start_time": "2023-09-08T14:30:26.399049",
   "version": "2.4.0"
  }
 },
 "nbformat": 4,
 "nbformat_minor": 5
}
